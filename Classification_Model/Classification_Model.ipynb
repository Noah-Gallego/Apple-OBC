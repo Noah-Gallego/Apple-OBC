{
 "cells": [
  {
   "cell_type": "markdown",
   "metadata": {},
   "source": [
    "# Develop an NN Solution (**Classification Model**) 🧠\n",
    "\n",
    "**Part 1: Loading Custom Data**\n",
    "\n",
    "1. Load in your train/test battery datasets\n",
    "2. Create DataLoaders for those datasets\n",
    "\n",
    "**Part 2: Training and Evaluating a Simple NN**\n",
    "\n",
    "3. Define and train a simple NN\n",
    "4. Evaluate your NN on some test data, recording the resultant RMSE\n",
    "\n",
    "You may be wondering: *How do I submit this in parts?* \n",
    "\n",
    "> You will be expected to submit this notebook **twice** for grading; once, when you've completed part one, and once when you've completed the entire baseline solution (part two). \n",
    "\n",
    "**Hint**: It may be helpful to reference the codebase for Household Power Prediction, which you saw a while ago—this codebase contains several helper functions for training and testing a model; including converting a typical MSE function into an RMSE value. "
   ]
  },
  {
   "cell_type": "code",
   "execution_count": 1,
   "metadata": {},
   "outputs": [],
   "source": [
    "# Import Nessecary Libraries\n",
    "import torch\n",
    "import torch.nn as nn\n",
    "import torch.optim as optim\n",
    "import sklearn\n",
    "from sklearn.metrics import mean_squared_error, mean_absolute_error\n",
    "from sklearn.preprocessing import StandardScaler\n",
    "from torch.nn import MSELoss\n",
    "from torch.utils.data import Dataset, DataLoader, random_split\n",
    "import pandas as pd"
   ]
  },
  {
   "cell_type": "code",
   "execution_count": 34,
   "metadata": {},
   "outputs": [
    {
     "data": {
      "text/html": [
       "<div>\n",
       "<style scoped>\n",
       "    .dataframe tbody tr th:only-of-type {\n",
       "        vertical-align: middle;\n",
       "    }\n",
       "\n",
       "    .dataframe tbody tr th {\n",
       "        vertical-align: top;\n",
       "    }\n",
       "\n",
       "    .dataframe thead th {\n",
       "        text-align: right;\n",
       "    }\n",
       "</style>\n",
       "<table border=\"1\" class=\"dataframe\">\n",
       "  <thead>\n",
       "    <tr style=\"text-align: right;\">\n",
       "      <th></th>\n",
       "      <th>value</th>\n",
       "      <th>charging_frequency_category</th>\n",
       "      <th>plug_in_hour</th>\n",
       "      <th>time_since_last_charge</th>\n",
       "      <th>is_night_charge</th>\n",
       "      <th>week</th>\n",
       "      <th>average_duration</th>\n",
       "      <th>charging_frequency_per_day</th>\n",
       "      <th>charge_duration_mins</th>\n",
       "      <th>more_3hrs</th>\n",
       "    </tr>\n",
       "  </thead>\n",
       "  <tbody>\n",
       "    <tr>\n",
       "      <th>0</th>\n",
       "      <td>1.0</td>\n",
       "      <td>2</td>\n",
       "      <td>0</td>\n",
       "      <td>0.000000</td>\n",
       "      <td>1</td>\n",
       "      <td>10</td>\n",
       "      <td>70.832335</td>\n",
       "      <td>10</td>\n",
       "      <td>59.0</td>\n",
       "      <td>0</td>\n",
       "    </tr>\n",
       "    <tr>\n",
       "      <th>1</th>\n",
       "      <td>1.0</td>\n",
       "      <td>1</td>\n",
       "      <td>1</td>\n",
       "      <td>1.000000</td>\n",
       "      <td>1</td>\n",
       "      <td>10</td>\n",
       "      <td>70.832335</td>\n",
       "      <td>10</td>\n",
       "      <td>0.0</td>\n",
       "      <td>0</td>\n",
       "    </tr>\n",
       "    <tr>\n",
       "      <th>2</th>\n",
       "      <td>1.0</td>\n",
       "      <td>2</td>\n",
       "      <td>1</td>\n",
       "      <td>0.000000</td>\n",
       "      <td>1</td>\n",
       "      <td>10</td>\n",
       "      <td>70.832335</td>\n",
       "      <td>10</td>\n",
       "      <td>34.0</td>\n",
       "      <td>0</td>\n",
       "    </tr>\n",
       "    <tr>\n",
       "      <th>3</th>\n",
       "      <td>1.0</td>\n",
       "      <td>2</td>\n",
       "      <td>3</td>\n",
       "      <td>1.466667</td>\n",
       "      <td>1</td>\n",
       "      <td>10</td>\n",
       "      <td>70.832335</td>\n",
       "      <td>10</td>\n",
       "      <td>6.0</td>\n",
       "      <td>0</td>\n",
       "    </tr>\n",
       "    <tr>\n",
       "      <th>4</th>\n",
       "      <td>1.0</td>\n",
       "      <td>1</td>\n",
       "      <td>3</td>\n",
       "      <td>0.200000</td>\n",
       "      <td>1</td>\n",
       "      <td>10</td>\n",
       "      <td>70.832335</td>\n",
       "      <td>10</td>\n",
       "      <td>341.0</td>\n",
       "      <td>1</td>\n",
       "    </tr>\n",
       "  </tbody>\n",
       "</table>\n",
       "</div>"
      ],
      "text/plain": [
       "   value  charging_frequency_category  plug_in_hour  time_since_last_charge  \\\n",
       "0    1.0                            2             0                0.000000   \n",
       "1    1.0                            1             1                1.000000   \n",
       "2    1.0                            2             1                0.000000   \n",
       "3    1.0                            2             3                1.466667   \n",
       "4    1.0                            1             3                0.200000   \n",
       "\n",
       "   is_night_charge  week  average_duration  charging_frequency_per_day  \\\n",
       "0                1    10         70.832335                          10   \n",
       "1                1    10         70.832335                          10   \n",
       "2                1    10         70.832335                          10   \n",
       "3                1    10         70.832335                          10   \n",
       "4                1    10         70.832335                          10   \n",
       "\n",
       "   charge_duration_mins  more_3hrs  \n",
       "0                  59.0          0  \n",
       "1                   0.0          0  \n",
       "2                  34.0          0  \n",
       "3                   6.0          0  \n",
       "4                 341.0          1  "
      ]
     },
     "execution_count": 34,
     "metadata": {},
     "output_type": "execute_result"
    }
   ],
   "source": [
    "# Add Nessecary Column\n",
    "df = pd.read_csv(\"data/scaled_filtered_dataset.csv\")\n",
    "df['charge_duration_mins'] *= 100 # Re-Scale DataFrame to Generate New Column\n",
    "\n",
    "# Create New Column\n",
    "df['more_3hrs'] = (df['charge_duration_mins'] / 60 >= 3).astype(int)\n",
    "\n",
    "# Create new DataFrame\n",
    "df_new = df\n",
    "df_new.head()"
   ]
  },
  {
   "cell_type": "code",
   "execution_count": 35,
   "metadata": {},
   "outputs": [],
   "source": [
    "class OBC_Dataset(Dataset):\n",
    "    def __init__(self):\n",
    "        # Read-in DataFrame\n",
    "        df = df_new\n",
    "\n",
    "        # Separate features and target (target = last column)\n",
    "        input_features = df.iloc[:, :-1].values\n",
    "        target = df.iloc[:, -1:].values\n",
    "        \n",
    "        # Convert features and target into tensors\n",
    "        self.x = torch.tensor(input_features, dtype=torch.float32)\n",
    "        self.y = torch.tensor(target, dtype=torch.float32)\n",
    "\n",
    "    def __len__(self):\n",
    "        # Necessary __len__ method\n",
    "        return len(self.y)\n",
    "\n",
    "    def __getitem__(self, index):\n",
    "        # Necessary fetch item method\n",
    "        return self.x[index], self.y[index]\n",
    "\n",
    "    def split_data(self, n_test):\n",
    "        # Split into desired train-test split\n",
    "        test_size = round(n_test * len(self.x))\n",
    "        train_size = len(self.x) - test_size\n",
    "        return random_split(self, [train_size, test_size])"
   ]
  },
  {
   "cell_type": "code",
   "execution_count": 36,
   "metadata": {},
   "outputs": [],
   "source": [
    "# Get DataFrame\n",
    "df = OBC_Dataset()"
   ]
  },
  {
   "cell_type": "code",
   "execution_count": 37,
   "metadata": {},
   "outputs": [],
   "source": [
    "# Split Into Train-Test Split\n",
    "train, test = df.split_data(n_test = 0.2)"
   ]
  },
  {
   "cell_type": "code",
   "execution_count": 38,
   "metadata": {},
   "outputs": [
    {
     "data": {
      "text/plain": [
       "1022650"
      ]
     },
     "execution_count": 38,
     "metadata": {},
     "output_type": "execute_result"
    }
   ],
   "source": [
    "# Examine Train Length to Ensure Validity\n",
    "len(train)"
   ]
  },
  {
   "cell_type": "code",
   "execution_count": 39,
   "metadata": {},
   "outputs": [
    {
     "data": {
      "text/plain": [
       "255662"
      ]
     },
     "execution_count": 39,
     "metadata": {},
     "output_type": "execute_result"
    }
   ],
   "source": [
    "# Examine Test Length to Ensure Validity\n",
    "len(test)"
   ]
  },
  {
   "cell_type": "code",
   "execution_count": 40,
   "metadata": {},
   "outputs": [
    {
     "name": "stdout",
     "output_type": "stream",
     "text": [
      "Features at position:  2 : tensor([ 1.0000,  0.0000, 23.0000, 10.3167,  1.0000, 12.0000, 64.6494,  3.0000,\n",
      "         0.0000])\n",
      "\n",
      "\n",
      "Target at position:  2 : tensor([0.])\n"
     ]
    }
   ],
   "source": [
    "# Examine Input Features & Target of Sample\n",
    "index = 2\n",
    "features, target = train[index]\n",
    "print(\"Features at position: \", index, \":\", features)\n",
    "print(\"\\n\\nTarget at position: \", index, \":\", target)"
   ]
  },
  {
   "cell_type": "code",
   "execution_count": 41,
   "metadata": {},
   "outputs": [],
   "source": [
    "# Add to Data Loaders\n",
    "train_loader = DataLoader(train, batch_size = 64, shuffle = True)\n",
    "test_loader = DataLoader(test, batch_size = 64)\n",
    "# ------- END OF ASSIGNMENT ONE ------- #"
   ]
  },
  {
   "cell_type": "markdown",
   "metadata": {},
   "source": [
    "# Develop A Neural Network Solution: Part Two 🛠️"
   ]
  },
  {
   "cell_type": "code",
   "execution_count": 42,
   "metadata": {},
   "outputs": [
    {
     "name": "stdout",
     "output_type": "stream",
     "text": [
      "Epoch: 1, Loss: 0.08602028023437579\n",
      "Epoch: 2, Loss: 0.028014063850880767\n",
      "Epoch: 3, Loss: 0.019610424666989194\n",
      "Epoch: 4, Loss: 0.016751255395721514\n",
      "Epoch: 5, Loss: 0.015391061388550443\n",
      "Epoch: 6, Loss: 0.01465655174548681\n",
      "Epoch: 7, Loss: 0.014149965464245661\n",
      "Epoch: 8, Loss: 0.013825017023077724\n",
      "Epoch: 9, Loss: 0.013554842553019402\n",
      "Epoch: 10, Loss: 0.013339526167858195\n"
     ]
    }
   ],
   "source": [
    "# Define Model Structure\n",
    "class Construct_Model(nn.Sequential):\n",
    "    def __init__(self, input_dim):\n",
    "        super(Construct_Model, self).__init__(\n",
    "            nn.Linear(input_dim, 64),\n",
    "            nn.ReLU(),\n",
    "            nn.Linear(64, 32),\n",
    "            nn.ReLU(),\n",
    "            nn.Linear(32, 1),   # Single output neuron for binary classification\n",
    "            nn.Sigmoid()        # Sigmoid activation for probability\n",
    "        )\n",
    "\n",
    "# Device setup for compatibility with GPU\n",
    "device = torch.device(\"cuda\" if torch.cuda.is_available() else \"cpu\")\n",
    "\n",
    "# Define Loss Function, Construct Model, Epochs, & Define Optimizer\n",
    "criterion = nn.BCELoss()\n",
    "model = Construct_Model(9).to(device)\n",
    "optimizer = torch.optim.Adam(model.parameters(), lr=0.00001)\n",
    "num_epochs = 10\n",
    "\n",
    "# Train The Model\n",
    "model.train()\n",
    "for epoch in range(1, num_epochs + 1):\n",
    "    train_loss = 0.0\n",
    "    for data, target in train_loader:\n",
    "        # Move data and target to the same device as model\n",
    "        data, target = data.to(device), target.to(device)\n",
    "        \n",
    "        # Forward pass\n",
    "        optimizer.zero_grad()\n",
    "        output = model(data)\n",
    "        \n",
    "        # Compute loss\n",
    "        loss = criterion(output, target)\n",
    "        loss.backward()\n",
    "        \n",
    "        # Update weights\n",
    "        optimizer.step()\n",
    "        \n",
    "        # Accumulate training loss\n",
    "        train_loss += loss.item()\n",
    "    \n",
    "    # Print epoch training loss\n",
    "    print(f\"Epoch: {epoch}, Loss: {train_loss / len(train_loader)}\")"
   ]
  },
  {
   "cell_type": "code",
   "execution_count": 49,
   "metadata": {},
   "outputs": [
    {
     "name": "stdout",
     "output_type": "stream",
     "text": [
      "AUC Score: 0.9994088708958818\n"
     ]
    }
   ],
   "source": [
    "from sklearn.metrics import roc_auc_score\n",
    "import numpy as np\n",
    "\n",
    "# Ensure the model is in evaluation mode\n",
    "model.eval()\n",
    "\n",
    "all_labels = []\n",
    "all_predictions = []\n",
    "\n",
    "# Disable gradient calculation\n",
    "with torch.no_grad():\n",
    "    for data, target in test_loader:\n",
    "        # Get model predictions (probabilities)\n",
    "        output = model(data)\n",
    "        probs = output.numpy()\n",
    "        \n",
    "        # Collect predictions and true labels\n",
    "        all_predictions.extend(probs)\n",
    "        all_labels.extend(target.numpy())\n",
    "\n",
    "# Calculate AUC using sklearn\n",
    "auc = roc_auc_score(all_labels, all_predictions)\n",
    "print(\"AUC Score:\", auc)"
   ]
  },
  {
   "cell_type": "code",
   "execution_count": null,
   "metadata": {},
   "outputs": [],
   "source": []
  }
 ],
 "metadata": {
  "kernelspec": {
   "display_name": "Python 3 (ipykernel)",
   "language": "python",
   "name": "python3"
  },
  "language_info": {
   "codemirror_mode": {
    "name": "ipython",
    "version": 3
   },
   "file_extension": ".py",
   "mimetype": "text/x-python",
   "name": "python",
   "nbconvert_exporter": "python",
   "pygments_lexer": "ipython3",
   "version": "3.8.18"
  }
 },
 "nbformat": 4,
 "nbformat_minor": 4
}
