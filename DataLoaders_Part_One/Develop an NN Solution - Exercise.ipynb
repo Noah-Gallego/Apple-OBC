{
 "cells": [
  {
   "cell_type": "markdown",
   "metadata": {},
   "source": [
    "# Develop an NN Solution 🧠\n",
    "\n",
    "Apply your PyTorch skills to the problem of optimized battery charging; training a simple NN to predict the `duration` for how long a user will plug-in and charge their device in future, based on past data. \n",
    "\n",
    "At this point, it is expected that you have two featurized, battery charging datasets: training data and test data. In this notebook, you should load in that data and use it to train and evaluate a simple neural network. \n",
    "\n",
    "This neural network does not need to be your best solution, just a proof-of-concept. \n",
    "\n",
    "> To know whether or not you are on the right track, aim for a test RMSE of around 3hrs. \n",
    "\n",
    "This RMSE (the square root of a squared value) roughly means that the average error in predicting the duration of a plug-in charge event is around 3hrs. The ideal would be 0 average error, but the reality is that being within a few hours of a correct prediction can still be very helpful in deciding when to pause and resume charging, such that battery lifespan can be increased without a sacrifice to the user experience! \n",
    "\n",
    "### Your tasks\n",
    "To create an NN-based solution to OBC, complete the following tasks:\n",
    "\n",
    "**Part 1: Loading Custom Data**\n",
    "\n",
    "1. Load in your train/test battery datasets\n",
    "2. Create DataLoaders for those datasets\n",
    "\n",
    "**Part 2: Training and Evaluating a Simple NN**\n",
    "\n",
    "3. Define and train a simple NN\n",
    "4. Evaluate your NN on some test data, recording the resultant RMSE\n",
    "\n",
    "You may be wondering: *How do I submit this in parts?* \n",
    "\n",
    "> You will be expected to submit this notebook **twice** for grading; once, when you've completed part one, and once when you've completed the entire baseline solution (part two). \n",
    "\n",
    "**Hint**: It may be helpful to reference the codebase for Household Power Prediction, which you saw a while ago—this codebase contains several helper functions for training and testing a model; including converting a typical MSE function into an RMSE value. "
   ]
  },
  {
   "cell_type": "code",
   "execution_count": 1,
   "metadata": {},
   "outputs": [],
   "source": [
    "# Import Nessecary Libraries\n",
    "import torch\n",
    "from torch.utils.data import Dataset, DataLoader, random_split\n",
    "import pandas as pd"
   ]
  },
  {
   "cell_type": "code",
   "execution_count": 27,
   "metadata": {},
   "outputs": [],
   "source": [
    "# Create Data Loader Class\n",
    "class OBC_Dataset(Dataset):\n",
    "    def __init__(self, filename):\n",
    "        # Read-In DataFrame\n",
    "        df = pd.read_csv(filename)\n",
    "\n",
    "        # Seperate features and target (target = last column)\n",
    "        input_features = df.iloc[:, :-1].values.astype(dtype = 'float32')\n",
    "        target = df.iloc[:, -1:].values.astype(dtype = 'float32')\n",
    "\n",
    "        # Convert Features/Target into tensor dtype\n",
    "        self.x = torch.tensor(input_features, dtype = torch.float32)\n",
    "        self.y = torch.tensor(target, dtype = torch.float32)\n",
    "\n",
    "    def __len__(self):\n",
    "        # Nessecary __len__ method\n",
    "        return len(self.y)\n",
    "\n",
    "    def __getitem__(self, index):\n",
    "        # Nessecary Fetch item method\n",
    "        return self.x[index], self.y[index]\n",
    "\n",
    "    def split_data(self, n_test):\n",
    "        # Split into desired train-test split\n",
    "        test_size = round(n_test * len(self.x))\n",
    "        train_size = len(self.x) - test_size\n",
    "        return random_split(self, [train_size, test_size])"
   ]
  },
  {
   "cell_type": "code",
   "execution_count": 34,
   "metadata": {},
   "outputs": [],
   "source": [
    "# Get DataFrame\n",
    "df = OBC_Dataset(\"data/engineered_dataset.csv\")"
   ]
  },
  {
   "cell_type": "code",
   "execution_count": 35,
   "metadata": {},
   "outputs": [],
   "source": [
    "# Split Into Train-Test Split\n",
    "train, test = df.split_data(n_test = 0.2)"
   ]
  },
  {
   "cell_type": "code",
   "execution_count": 37,
   "metadata": {},
   "outputs": [
    {
     "data": {
      "text/plain": [
       "1032899"
      ]
     },
     "execution_count": 37,
     "metadata": {},
     "output_type": "execute_result"
    }
   ],
   "source": [
    "# Examine Train Length to Ensure Validity\n",
    "len(train)"
   ]
  },
  {
   "cell_type": "code",
   "execution_count": 38,
   "metadata": {},
   "outputs": [
    {
     "data": {
      "text/plain": [
       "258225"
      ]
     },
     "execution_count": 38,
     "metadata": {},
     "output_type": "execute_result"
    }
   ],
   "source": [
    "# Examine Test Length to Ensure Validity\n",
    "len(test)"
   ]
  },
  {
   "cell_type": "code",
   "execution_count": 39,
   "metadata": {},
   "outputs": [
    {
     "name": "stdout",
     "output_type": "stream",
     "text": [
      "Features at position:  2 : tensor([ 1.0000,  0.0000, 15.0000,  0.0000,  0.0000, 12.0000, 22.6158, 20.0000])\n",
      "\n",
      "\n",
      "Target at position:  2 : tensor([0.])\n"
     ]
    }
   ],
   "source": [
    "# Examine Input Features & Target of Sample\n",
    "index = 2\n",
    "features, target = train[index]\n",
    "print(\"Features at position: \", index, \":\", features)\n",
    "print(\"\\n\\nTarget at position: \", index, \":\", target)"
   ]
  },
  {
   "cell_type": "code",
   "execution_count": 40,
   "metadata": {},
   "outputs": [],
   "source": [
    "# Add to Data Loaders\n",
    "train_loader = DataLoader(train, batch_size = 32, shuffle = True)\n",
    "test_loader = DataLoader(test, batch_size = 32)\n",
    "# ------- END OF ASSIGNMENT ONE ------- #"
   ]
  },
  {
   "cell_type": "code",
   "execution_count": null,
   "metadata": {},
   "outputs": [],
   "source": []
  }
 ],
 "metadata": {
  "kernelspec": {
   "display_name": "Python 3 (ipykernel)",
   "language": "python",
   "name": "python3"
  },
  "language_info": {
   "codemirror_mode": {
    "name": "ipython",
    "version": 3
   },
   "file_extension": ".py",
   "mimetype": "text/x-python",
   "name": "python",
   "nbconvert_exporter": "python",
   "pygments_lexer": "ipython3",
   "version": "3.8.18"
  }
 },
 "nbformat": 4,
 "nbformat_minor": 4
}
