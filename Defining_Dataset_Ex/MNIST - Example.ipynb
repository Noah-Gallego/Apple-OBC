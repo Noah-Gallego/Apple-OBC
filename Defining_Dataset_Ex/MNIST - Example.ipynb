{
 "cells": [
  {
   "cell_type": "markdown",
   "metadata": {},
   "source": [
    "# Loading a Pre-Defined Dataset\n",
    "\n",
    "This notebooks demonstrates how a PyTorch data-loading pipeline works, which is in three steps:\n",
    "\n",
    "1. **Load / create train and test data**: Load a dataset into PyTorch, and define separate train and test sets\n",
    "2. **Visualize**: Inspect the dataset\n",
    "3. **Create DataLoaders**: Create train and test DataLoaders that allow you to create batches of data and perform other, useful operations\n",
    "\n",
    "You're encouraged to change and add to this notebook to further explore the pre-defined, MNIST dataset, or to train a hand-written digit classifier of your own! There is no assignment or submission associated with this exploration.\n",
    "\n",
    "I'll start with the usual PyTorch imports, including an import statement for PyTorch's pre-defined vision datasets, `from torchvision import datasets`."
   ]
  },
  {
   "cell_type": "code",
   "execution_count": 12,
   "metadata": {},
   "outputs": [],
   "source": [
    "import torch\n",
    "from torch.utils.data import DataLoader\n",
    "from torchvision import datasets, transforms\n",
    "import matplotlib.pyplot as plt\n",
    "import random"
   ]
  },
  {
   "cell_type": "markdown",
   "metadata": {},
   "source": [
    "----\n",
    "## Load MNIST Train/Test Datasets\n",
    "\n",
    "PyTorch provides a way to load separate train and test MNIST datasets, as specified in the [dataset documentation](https://pytorch.org/vision/stable/datasets.html#mnist), with the parameter `train` being set to True or False. \n",
    "\n",
    "Some datasets are loaded all at once, such that you may have to take an additional step to randomly split the data into train and test sets."
   ]
  },
  {
   "cell_type": "code",
   "execution_count": 3,
   "metadata": {},
   "outputs": [
    {
     "name": "stdout",
     "output_type": "stream",
     "text": [
      "Downloading http://yann.lecun.com/exdb/mnist/train-images-idx3-ubyte.gz\n",
      "Failed to download (trying next):\n",
      "<urlopen error [SSL: CERTIFICATE_VERIFY_FAILED] certificate verify failed: certificate has expired (_ssl.c:1131)>\n",
      "\n",
      "Downloading https://ossci-datasets.s3.amazonaws.com/mnist/train-images-idx3-ubyte.gz\n",
      "Downloading https://ossci-datasets.s3.amazonaws.com/mnist/train-images-idx3-ubyte.gz to ./datasets/MNIST/raw/train-images-idx3-ubyte.gz\n"
     ]
    },
    {
     "name": "stderr",
     "output_type": "stream",
     "text": [
      "100.0%\n"
     ]
    },
    {
     "name": "stdout",
     "output_type": "stream",
     "text": [
      "Extracting ./datasets/MNIST/raw/train-images-idx3-ubyte.gz to ./datasets/MNIST/raw\n",
      "\n",
      "Downloading http://yann.lecun.com/exdb/mnist/train-labels-idx1-ubyte.gz\n",
      "Failed to download (trying next):\n",
      "<urlopen error [SSL: CERTIFICATE_VERIFY_FAILED] certificate verify failed: certificate has expired (_ssl.c:1131)>\n",
      "\n",
      "Downloading https://ossci-datasets.s3.amazonaws.com/mnist/train-labels-idx1-ubyte.gz\n",
      "Downloading https://ossci-datasets.s3.amazonaws.com/mnist/train-labels-idx1-ubyte.gz to ./datasets/MNIST/raw/train-labels-idx1-ubyte.gz\n"
     ]
    },
    {
     "name": "stderr",
     "output_type": "stream",
     "text": [
      "100.0%\n"
     ]
    },
    {
     "name": "stdout",
     "output_type": "stream",
     "text": [
      "Extracting ./datasets/MNIST/raw/train-labels-idx1-ubyte.gz to ./datasets/MNIST/raw\n",
      "\n",
      "Downloading http://yann.lecun.com/exdb/mnist/t10k-images-idx3-ubyte.gz\n",
      "Failed to download (trying next):\n",
      "<urlopen error [SSL: CERTIFICATE_VERIFY_FAILED] certificate verify failed: certificate has expired (_ssl.c:1131)>\n",
      "\n",
      "Downloading https://ossci-datasets.s3.amazonaws.com/mnist/t10k-images-idx3-ubyte.gz\n",
      "Downloading https://ossci-datasets.s3.amazonaws.com/mnist/t10k-images-idx3-ubyte.gz to ./datasets/MNIST/raw/t10k-images-idx3-ubyte.gz\n"
     ]
    },
    {
     "name": "stderr",
     "output_type": "stream",
     "text": [
      "100.0%\n"
     ]
    },
    {
     "name": "stdout",
     "output_type": "stream",
     "text": [
      "Extracting ./datasets/MNIST/raw/t10k-images-idx3-ubyte.gz to ./datasets/MNIST/raw\n",
      "\n",
      "Downloading http://yann.lecun.com/exdb/mnist/t10k-labels-idx1-ubyte.gz\n",
      "Failed to download (trying next):\n",
      "<urlopen error [SSL: CERTIFICATE_VERIFY_FAILED] certificate verify failed: certificate has expired (_ssl.c:1131)>\n",
      "\n",
      "Downloading https://ossci-datasets.s3.amazonaws.com/mnist/t10k-labels-idx1-ubyte.gz\n",
      "Downloading https://ossci-datasets.s3.amazonaws.com/mnist/t10k-labels-idx1-ubyte.gz to ./datasets/MNIST/raw/t10k-labels-idx1-ubyte.gz\n"
     ]
    },
    {
     "name": "stderr",
     "output_type": "stream",
     "text": [
      "100.0%"
     ]
    },
    {
     "name": "stdout",
     "output_type": "stream",
     "text": [
      "Extracting ./datasets/MNIST/raw/t10k-labels-idx1-ubyte.gz to ./datasets/MNIST/raw\n",
      "\n"
     ]
    },
    {
     "name": "stderr",
     "output_type": "stream",
     "text": [
      "\n"
     ]
    }
   ],
   "source": [
    "mnist_train = datasets.MNIST(root=\"./datasets\", train=True, transform=transforms.ToTensor(), download=True)\n",
    "mnist_test = datasets.MNIST(root=\"./datasets\", train=False, transform=transforms.ToTensor(), download=True)"
   ]
  },
  {
   "cell_type": "markdown",
   "metadata": {},
   "source": [
    "### Visualize the data\n",
    "\n",
    "You should see more training than test data; specifically 60k and 10k samples, and each data point should hold one grayscale image and a corresponding class label."
   ]
  },
  {
   "cell_type": "code",
   "execution_count": 4,
   "metadata": {},
   "outputs": [
    {
     "name": "stdout",
     "output_type": "stream",
     "text": [
      "Number of MNIST training examples: 60000\n",
      "Number of MNIST test examples: 10000\n"
     ]
    }
   ],
   "source": [
    "print(\"Number of MNIST training examples: {}\".format(len(mnist_train)))\n",
    "print(\"Number of MNIST test examples: {}\".format(len(mnist_test)))"
   ]
  },
  {
   "cell_type": "code",
   "execution_count": 17,
   "metadata": {},
   "outputs": [
    {
     "name": "stdout",
     "output_type": "stream",
     "text": [
      "Default image shape: torch.Size([1, 28, 28])\n",
      "Reshaped image shape: torch.Size([28, 28])\n",
      "The label for this image: 2\n"
     ]
    },
    {
     "data": {
      "image/png": "[encoded data removed]",
      "text/plain": [
       "<Figure size 640x480 with 1 Axes>"
      ]
     },
     "metadata": {},
     "output_type": "display_data"
    }
   ],
   "source": [
    "# get the first training example\n",
    "rand = random.randint(0, len(mnist_train))\n",
    "image, label = mnist_train[rand]\n",
    "\n",
    "# reshape the image back to 28x28 pixels\n",
    "print(\"Default image shape: {}\".format(image.shape))\n",
    "image = image.reshape([28,28])\n",
    "print(\"Reshaped image shape: {}\".format(image.shape))\n",
    "\n",
    "# plot the image\n",
    "plt.imshow(image, cmap=\"gray\")\n",
    "\n",
    "# print the label\n",
    "print(\"The label for this image: {}\".format(label))"
   ]
  },
  {
   "cell_type": "markdown",
   "metadata": {},
   "source": [
    "### Create DataLoaders\n",
    "\n",
    "The next step that I’ll take is wrapping my training and test datasets in PyTorch DataLoaders. \n",
    "\n",
    "> DataLoaders allow you to split our dataset into appropriate batches, shuffle your data, and perform other operations before it is fed into a neural net.\n",
    "\n",
    "You can read about data loading abilities in PyTorch in the [data documentation](https://pytorch.org/docs/stable/data.html).\n",
    "\n",
    "Try completing this code yourself, with the following arguments:\n",
    "* `batch_size = 128` for _both_ training and test DataLoaders\n",
    "* `shuffle = True` for _only_ the training DataLoader\n",
    "\n",
    "**A note on these parameters**: \n",
    "* What do you think a _good_ batch size is? This is how many data points a model sees during a single training step (one _epoch_ over an entire dataset may take thousands of such steps); an error is calculated on a batch of data and the weights of an NN are updated in response. \n",
    "* Why do you think it would be useful to _shuffle_ some training data (but not test data)?"
   ]
  },
  {
   "cell_type": "code",
   "execution_count": 18,
   "metadata": {},
   "outputs": [],
   "source": [
    "train_dl = DataLoader(mnist_train, batch_size = 128, shuffle = True)\n",
    "test_dl = DataLoader(mnist_test, batch_size = 128, shuffle = True)"
   ]
  },
  {
   "cell_type": "code",
   "execution_count": 74,
   "metadata": {},
   "outputs": [],
   "source": [
    "## free space: explore on your own! \n",
    "import torch.nn as nn\n",
    "import torch.nn.functional as F\n",
    "\n",
    "class create_model(nn.Module):\n",
    "    def __init__(self, input_dim, output_dim, hidden_dim):\n",
    "        super(create_model, self).__init__()\n",
    "        self.fc1 = nn.Linear(input_dim, hidden_dim)\n",
    "        self.fc2 = nn.Linear(hidden_dim, 64)\n",
    "        self.fc3 = nn.Linear(64, output_dim)\n",
    "        self.dropout = nn.Dropout(0.5)\n",
    "\n",
    "    def forward(self, x):\n",
    "        out = self.fc1(x)\n",
    "        out = F.relu(out)\n",
    "        out = self.dropout(out)\n",
    "        out = self.fc2(out)\n",
    "        out = F.relu(out)\n",
    "        out = self.fc3(out)\n",
    "        return out"
   ]
  },
  {
   "cell_type": "code",
   "execution_count": 75,
   "metadata": {},
   "outputs": [
    {
     "data": {
      "text/plain": [
       "create_model(\n",
       "  (fc1): Linear(in_features=784, out_features=128, bias=True)\n",
       "  (fc2): Linear(in_features=128, out_features=64, bias=True)\n",
       "  (fc3): Linear(in_features=64, out_features=10, bias=True)\n",
       "  (dropout): Dropout(p=0.5, inplace=False)\n",
       ")"
      ]
     },
     "execution_count": 75,
     "metadata": {},
     "output_type": "execute_result"
    }
   ],
   "source": [
    "input_dim = 28**2\n",
    "hidden_dim = 128\n",
    "output_dim = 10\n",
    "\n",
    "model = create_model(input_dim, output_dim, hidden_dim)\n",
    "\n",
    "model"
   ]
  },
  {
   "cell_type": "code",
   "execution_count": 76,
   "metadata": {},
   "outputs": [],
   "source": [
    "criterion = nn.CrossEntropyLoss()\n",
    "\n",
    "optimizer = torch.optim.SGD(model.parameters(), lr = 0.001)"
   ]
  },
  {
   "cell_type": "code",
   "execution_count": 77,
   "metadata": {},
   "outputs": [
    {
     "name": "stdout",
     "output_type": "stream",
     "text": [
      "Epoch [1/15], Loss: 2.3022856437829513\n",
      "Epoch [2/15], Loss: 2.2899053630544177\n",
      "Epoch [3/15], Loss: 2.2761034284319197\n",
      "Epoch [4/15], Loss: 2.260146065307324\n",
      "Epoch [5/15], Loss: 2.2402163156822548\n",
      "Epoch [6/15], Loss: 2.215832831763001\n",
      "Epoch [7/15], Loss: 2.18413498762574\n",
      "Epoch [8/15], Loss: 2.144005786635474\n",
      "Epoch [9/15], Loss: 2.0941707859161314\n",
      "Epoch [10/15], Loss: 2.029631959604048\n",
      "Epoch [11/15], Loss: 1.952115973684071\n",
      "Epoch [12/15], Loss: 1.8581600580642472\n",
      "Epoch [13/15], Loss: 1.7550166438637511\n",
      "Epoch [14/15], Loss: 1.6454061216382838\n",
      "Epoch [15/15], Loss: 1.5296818960958452\n",
      "Finished Training\n"
     ]
    }
   ],
   "source": [
    "epochs = 15\n",
    "for epoch in range(epochs):\n",
    "    model.train()\n",
    "    running_loss = 0.0\n",
    "\n",
    "    for images, labels in train_dl:\n",
    "        # Flatten MNIST images into a 784-dimensional vector\n",
    "        images = images.view(images.size(0), -1)\n",
    "        \n",
    "        # Zero the parameter gradients\n",
    "        optimizer.zero_grad()\n",
    "\n",
    "        # Forward pass\n",
    "        outputs = model(images)\n",
    "        loss = criterion(outputs, labels)\n",
    "        \n",
    "        # Backward pass and optimization\n",
    "        loss.backward()  # Compute gradients\n",
    "        optimizer.step()  # Update model parameters\n",
    "\n",
    "        # Print loss (optional)\n",
    "        running_loss += loss.item()\n",
    "    print(f\"Epoch [{epoch+1}/{epochs}], Loss: {running_loss/len(train_dl)}\")\n",
    "\n",
    "print(\"Finished Training\")"
   ]
  },
  {
   "cell_type": "code",
   "execution_count": 84,
   "metadata": {},
   "outputs": [
    {
     "name": "stdout",
     "output_type": "stream",
     "text": [
      "Test Accuracy: 70.82%\n",
      "Predicted: 7 - Actual: 7\n",
      "Predicted: 3 - Actual: 3\n",
      "Predicted: 0 - Actual: 0\n",
      "Predicted: 9 - Actual: 4\n",
      "Predicted: 9 - Actual: 9\n"
     ]
    }
   ],
   "source": [
    "def calculate_accuracy(model, data_loader):\n",
    "    model.eval()  # Set the model to evaluation mode\n",
    "    correct = 0\n",
    "    total = 0\n",
    "    all_preds = []\n",
    "    all_labels = []\n",
    "    \n",
    "    with torch.no_grad():  # Disable gradient computation for testing\n",
    "        for images, labels in data_loader:\n",
    "            # Flatten MNIST images into a 784-dimensional vector\n",
    "            images = images.view(images.size(0), -1)\n",
    "            \n",
    "            # Forward pass\n",
    "            outputs = model(images)\n",
    "            \n",
    "            # Get the predicted class by taking the index of the maximum value in the output tensor\n",
    "            _, predicted = torch.max(outputs.data, 1)\n",
    "            \n",
    "            # Total number of labels\n",
    "            total += labels.size(0)\n",
    "            \n",
    "            # Count the number of correct predictions\n",
    "            correct += (predicted == labels).sum().item()\n",
    "            \n",
    "            # Store all predictions and labels\n",
    "            all_preds.extend(predicted.cpu().numpy())  # Collect all predicted values\n",
    "            all_labels.extend(labels.cpu().numpy())    # Collect actual labels\n",
    "\n",
    "    # Calculate accuracy as (correct / total)\n",
    "    accuracy = 100 * correct / total\n",
    "    return accuracy, all_preds, all_labels\n",
    "\n",
    "# Test the model and print accuracy\n",
    "test_accuracy, predictions, labels = calculate_accuracy(model, test_dl)\n",
    "print(f'Test Accuracy: {test_accuracy:.2f}%')\n",
    "\n",
    "# Optionally, print the first few predicted and actual labels for verification\n",
    "for i in range(5):  # Example: print first 5\n",
    "    print(f\"Predicted: {predictions[i]} - Actual: {labels[i]}\")"
   ]
  },
  {
   "cell_type": "code",
   "execution_count": null,
   "metadata": {},
   "outputs": [],
   "source": []
  }
 ],
 "metadata": {
  "kernelspec": {
   "display_name": "Python 3 (ipykernel)",
   "language": "python",
   "name": "python3"
  },
  "language_info": {
   "codemirror_mode": {
    "name": "ipython",
    "version": 3
   },
   "file_extension": ".py",
   "mimetype": "text/x-python",
   "name": "python",
   "nbconvert_exporter": "python",
   "pygments_lexer": "ipython3",
   "version": "3.8.18"
  }
 },
 "nbformat": 4,
 "nbformat_minor": 4
}
