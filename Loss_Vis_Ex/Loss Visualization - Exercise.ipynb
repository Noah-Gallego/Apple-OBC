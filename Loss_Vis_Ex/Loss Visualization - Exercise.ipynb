{
 "cells": [
  {
   "cell_type": "markdown",
   "metadata": {},
   "source": [
    "# Visualizing Loss for an NN\n",
    "---\n",
    "This notebook contains code to train a neural net to predict an activity, running or walking, based on some provided user motion data. \n",
    "\n",
    "### The data\n",
    "\n",
    "The data is a single csv file of accelerometer and gyroscope readings, collected from users' watches in 10 second intervals. Each data point is tagged as one of two activity types: running or walking. \n",
    "\n",
    "> Take a quick look at this data in Trove, where each column is described: [Run or walk data in Trove](https://trove.apple.com/dataset/run_walk_motion/1.0.0). \n",
    "\n",
    "### Visualizing loss functions\n",
    "\n",
    "All of the code to define and train a simple neural net for this activity classification task is provided, however the model is not the best fit for this data and the training losses are unstable.\n",
    "\n",
    "It is up to you to observe the training and validation loss values over several epochs, and determine whether this model is over- or under- fit (or if something else is going on). \n",
    "\n",
    "Then, try to change some of the training hyperparameters to make training more stable and improve this model! \n",
    "\n",
    "These tasks will be marked as **TASKS** in markdown. \n",
    "\n",
    "> **TASK**: Run the provided code to observe patterns in training and validation losses. "
   ]
  },
  {
   "cell_type": "code",
   "execution_count": 1,
   "metadata": {},
   "outputs": [
    {
     "name": "stderr",
     "output_type": "stream",
     "text": [
      "/Users/noahgallego/miniconda3/envs/deep-learning/lib/python3.8/site-packages/_distutils_hack/__init__.py:32: UserWarning: Setuptools is replacing distutils. Support for replacing an already imported distutils is deprecated. In the future, this condition will fail. Register concerns at https://github.com/pypa/setuptools/issues/new?template=distutils-deprecation.yml\n",
      "  warnings.warn(\n"
     ]
    }
   ],
   "source": [
    "## run provided code\n",
    "# import PyTorch libraries\n",
    "import torch\n",
    "from torch.utils.data import DataLoader\n",
    "torch.manual_seed(0) # reproducibility\n",
    "\n",
    "# import data libraries\n",
    "import turitrove as trove\n",
    "import pandas as pd\n",
    "import os\n",
    "import numpy as np\n",
    "import matplotlib.pyplot as plt"
   ]
  },
  {
   "cell_type": "markdown",
   "metadata": {},
   "source": [
    "---\n",
    "## Load the Data\n",
    "\n",
    "\n",
    "The following cells load run/walk activity data from Trove and define a custom Dataset class to read in the csv of run/walk data as **Tensors** for PyTorch to work with."
   ]
  },
  {
   "cell_type": "code",
   "execution_count": 2,
   "metadata": {},
   "outputs": [
    {
     "name": "stdout",
     "output_type": "stream",
     "text": [
      "dataset/run_walk_motion@1.0.0 is not mounted\n"
     ]
    },
    {
     "name": "stderr",
     "output_type": "stream",
     "text": [
      "/Users/noahgallego/miniconda3/envs/deep-learning/lib/python3.8/site-packages/httpx/_content.py:202: DeprecationWarning: Use 'content=<...>' to upload raw bytes/text content.\n",
      "  warnings.warn(message, DeprecationWarning)\n"
     ]
    },
    {
     "name": "stdout",
     "output_type": "stream",
     "text": [
      "Directory /Users/noahgallego/Desktop/Apple-OBC/Loss_Vis_Ex/temp_data/run_walk_motion-1.0.0/data is created by trove.\n",
      "mount in progress: /Users/noahgallego/Desktop/Apple-OBC/Loss_Vis_Ex/temp_data/run_walk_motion-1.0.0/data/table\n",
      "26.3KB disk space allocated for caching /Users/noahgallego/Desktop/Apple-OBC/Loss_Vis_Ex/temp_data/run_walk_motion-1.0.0/data/table\n"
     ]
    },
    {
     "name": "stderr",
     "output_type": "stream",
     "text": [
      "\u001b[38;2;0;255;0m100%\u001b[39m (\u001b[38;2;0;255;0m100 of 100\u001b[39m) |######################################|Elapsed Time: 0:00:00/Users/noahgallego/miniconda3/envs/deep-learning/lib/python3.8/site-packages/httpx/_content.py:202: DeprecationWarning: Use 'content=<...>' to upload raw bytes/text content.\n",
      "  warnings.warn(message, DeprecationWarning)\n"
     ]
    },
    {
     "name": "stdout",
     "output_type": "stream",
     "text": [
      "\n",
      "Mount succeeded\n",
      "mount in progress: /Users/noahgallego/Desktop/Apple-OBC/Loss_Vis_Ex/temp_data/run_walk_motion-1.0.0/data/raw\n",
      "7.2MB disk space allocated for caching /Users/noahgallego/Desktop/Apple-OBC/Loss_Vis_Ex/temp_data/run_walk_motion-1.0.0/data/raw\n"
     ]
    },
    {
     "name": "stderr",
     "output_type": "stream",
     "text": [
      "\u001b[38;2;0;255;0m100%\u001b[39m (\u001b[38;2;0;255;0m100 of 100\u001b[39m) |######################################|Elapsed Time: 0:00:02/Users/noahgallego/miniconda3/envs/deep-learning/lib/python3.8/site-packages/httpx/_content.py:202: DeprecationWarning: Use 'content=<...>' to upload raw bytes/text content.\n",
      "  warnings.warn(message, DeprecationWarning)\n"
     ]
    },
    {
     "name": "stdout",
     "output_type": "stream",
     "text": [
      "\n",
      "Mount succeeded\n",
      "dataset/run_walk_motion@1.0.0 is mounted at /Users/noahgallego/Desktop/Apple-OBC/Loss_Vis_Ex/temp_data\n"
     ]
    },
    {
     "name": "stderr",
     "output_type": "stream",
     "text": [
      "/Users/noahgallego/miniconda3/envs/deep-learning/lib/python3.8/site-packages/httpx/_content.py:202: DeprecationWarning: Use 'content=<...>' to upload raw bytes/text content.\n",
      "  warnings.warn(message, DeprecationWarning)\n"
     ]
    }
   ],
   "source": [
    "# load data from Trove\n",
    "\n",
    "TROVE_URI = 'dataset/run_walk_motion@1.0.0'\n",
    "trove.umount(TROVE_URI)\n",
    "\n",
    "# check for temp_data dir, if not found, make one and mount the dataset\n",
    "if not os.path.isdir('temp_data'):\n",
    "    os.makedirs('temp_data')\n",
    "\n",
    "activity_dataset = trove.mount(TROVE_URI, 'temp_data')"
   ]
  },
  {
   "cell_type": "code",
   "execution_count": 3,
   "metadata": {},
   "outputs": [
    {
     "data": {
      "text/html": [
       "<div>\n",
       "<style scoped>\n",
       "    .dataframe tbody tr th:only-of-type {\n",
       "        vertical-align: middle;\n",
       "    }\n",
       "\n",
       "    .dataframe tbody tr th {\n",
       "        vertical-align: top;\n",
       "    }\n",
       "\n",
       "    .dataframe thead th {\n",
       "        text-align: right;\n",
       "    }\n",
       "</style>\n",
       "<table border=\"1\" class=\"dataframe\">\n",
       "  <thead>\n",
       "    <tr style=\"text-align: right;\">\n",
       "      <th></th>\n",
       "      <th>wrist</th>\n",
       "      <th>acceleration_x</th>\n",
       "      <th>acceleration_y</th>\n",
       "      <th>acceleration_z</th>\n",
       "      <th>gyro_x</th>\n",
       "      <th>gyro_y</th>\n",
       "      <th>gyro_z</th>\n",
       "      <th>activity</th>\n",
       "    </tr>\n",
       "  </thead>\n",
       "  <tbody>\n",
       "    <tr>\n",
       "      <th>0</th>\n",
       "      <td>0</td>\n",
       "      <td>0.2650</td>\n",
       "      <td>-0.7814</td>\n",
       "      <td>-0.0076</td>\n",
       "      <td>-0.0590</td>\n",
       "      <td>0.0325</td>\n",
       "      <td>-2.9296</td>\n",
       "      <td>0</td>\n",
       "    </tr>\n",
       "    <tr>\n",
       "      <th>1</th>\n",
       "      <td>0</td>\n",
       "      <td>0.6722</td>\n",
       "      <td>-1.1233</td>\n",
       "      <td>-0.2344</td>\n",
       "      <td>-0.1757</td>\n",
       "      <td>0.0208</td>\n",
       "      <td>0.1269</td>\n",
       "      <td>0</td>\n",
       "    </tr>\n",
       "    <tr>\n",
       "      <th>2</th>\n",
       "      <td>0</td>\n",
       "      <td>0.4399</td>\n",
       "      <td>-1.4817</td>\n",
       "      <td>0.0722</td>\n",
       "      <td>-0.9105</td>\n",
       "      <td>0.1063</td>\n",
       "      <td>-2.4367</td>\n",
       "      <td>0</td>\n",
       "    </tr>\n",
       "    <tr>\n",
       "      <th>3</th>\n",
       "      <td>0</td>\n",
       "      <td>0.3031</td>\n",
       "      <td>-0.8125</td>\n",
       "      <td>0.0888</td>\n",
       "      <td>0.1199</td>\n",
       "      <td>-0.4099</td>\n",
       "      <td>-2.9336</td>\n",
       "      <td>0</td>\n",
       "    </tr>\n",
       "    <tr>\n",
       "      <th>4</th>\n",
       "      <td>0</td>\n",
       "      <td>0.4814</td>\n",
       "      <td>-0.9312</td>\n",
       "      <td>0.0359</td>\n",
       "      <td>0.0527</td>\n",
       "      <td>0.4379</td>\n",
       "      <td>2.4922</td>\n",
       "      <td>0</td>\n",
       "    </tr>\n",
       "  </tbody>\n",
       "</table>\n",
       "</div>"
      ],
      "text/plain": [
       "   wrist  acceleration_x  acceleration_y  acceleration_z  gyro_x  gyro_y  \\\n",
       "0      0          0.2650         -0.7814         -0.0076 -0.0590  0.0325   \n",
       "1      0          0.6722         -1.1233         -0.2344 -0.1757  0.0208   \n",
       "2      0          0.4399         -1.4817          0.0722 -0.9105  0.1063   \n",
       "3      0          0.3031         -0.8125          0.0888  0.1199 -0.4099   \n",
       "4      0          0.4814         -0.9312          0.0359  0.0527  0.4379   \n",
       "\n",
       "   gyro_z  activity  \n",
       "0 -2.9296         0  \n",
       "1  0.1269         0  \n",
       "2 -2.4367         0  \n",
       "3 -2.9336         0  \n",
       "4  2.4922         0  "
      ]
     },
     "execution_count": 3,
     "metadata": {},
     "output_type": "execute_result"
    }
   ],
   "source": [
    "# make dataframe from csv path\n",
    "data_path = activity_dataset.raw_file_path + '/'+ activity_dataset.primary_index['path'][0]\n",
    "df = pd.read_csv(data_path)\n",
    "\n",
    "# format the data\n",
    "# date, time, username columns dropped \n",
    "df_formatted = df.drop(['date', 'time', 'username'], axis=1)\n",
    "# put target (activity) column last\n",
    "column_order = ['wrist', 'acceleration_x', 'acceleration_y', 'acceleration_z', \n",
    "                'gyro_x', 'gyro_y', 'gyro_z','activity']\n",
    "df_formatted = df_formatted.reindex(columns=column_order)\n",
    "df_formatted.head()"
   ]
  },
  {
   "cell_type": "code",
   "execution_count": 4,
   "metadata": {},
   "outputs": [],
   "source": [
    "if not os.path.isdir('data'):\n",
    "    os.makedirs('data')\n",
    "    \n",
    "# save to local data/ dir\n",
    "df_formatted.to_pickle('data/run_walk_formatted.pkl')"
   ]
  },
  {
   "cell_type": "markdown",
   "metadata": {},
   "source": [
    "---\n",
    "# Create a Dataset\n",
    "\n",
    "Creating a Dataset class that defines input features as all columns of the `df_formatted` DataFrame _except_ for the last column, which is the target `activity` variable."
   ]
  },
  {
   "cell_type": "code",
   "execution_count": 5,
   "metadata": {},
   "outputs": [],
   "source": [
    "# create dataset\n",
    "from helpers import RunWalkDataset\n",
    "run_walk_dataset = RunWalkDataset('data/run_walk_formatted.pkl')"
   ]
  },
  {
   "cell_type": "code",
   "execution_count": 6,
   "metadata": {},
   "outputs": [
    {
     "name": "stdout",
     "output_type": "stream",
     "text": [
      "\n",
      "(tensor([ 0.0000,  0.2650, -0.7814, -0.0076, -0.0590,  0.0325, -2.9296]), tensor([0.]))\n",
      "\n",
      "(tensor([ 0.0000,  0.6722, -1.1233, -0.2344, -0.1757,  0.0208,  0.1269]), tensor([0.]))\n",
      "\n",
      "(tensor([ 0.0000,  0.4399, -1.4817,  0.0722, -0.9105,  0.1063, -2.4367]), tensor([0.]))\n"
     ]
    }
   ],
   "source": [
    "# print out a few (3) samples to see that it looks right\n",
    "for i in range(3):\n",
    "    sample = run_walk_dataset[i]\n",
    "    print()\n",
    "    print(sample)\n"
   ]
  },
  {
   "cell_type": "markdown",
   "metadata": {},
   "source": [
    "---\n",
    "## DataLoaders for Train/Validation/Test Datasets\n",
    "\n",
    "DataLoaders allow us to do things like batch data (for batch learning), shuffle data, etc.—they are the standard way to iterate through data for training a PyTorch model.\n",
    "\n",
    "> Notice how the `random_split()` utility function can be used to create 3 datasets of specified lengths (it can be used to create as many as you would like).\n",
    "\n",
    "You can check that the validation dataset is ~10% of the entire data."
   ]
  },
  {
   "cell_type": "code",
   "execution_count": 7,
   "metadata": {},
   "outputs": [],
   "source": [
    "from torch.utils.data import random_split\n",
    "\n",
    "# split data into train, validation, and test sets randomly ~ 70/10/20\n",
    "split_10_float = len(run_walk_dataset)*1/10.0\n",
    "split_70 = int(split_10_float*7)\n",
    "split_10 = int(split_10_float)\n",
    "split_20 = int(split_10_float*2)\n",
    "\n",
    "# accounting for rounding errors, make sure I use all data by adding a few extra pts to training set\n",
    "diff = len(run_walk_dataset) - (split_70 + split_10 + split_20)\n",
    "# print(diff)\n",
    "if diff > 0:\n",
    "    split_70 += diff \n",
    "\n",
    "\n",
    "# create datasets and loaders\n",
    "train_dataset, validation_dataset, test_dataset = random_split(run_walk_dataset, \n",
    "                                                              [split_70, split_10, split_20])\n",
    "\n",
    "batch_size = 64\n",
    "\n",
    "train_loader = DataLoader(train_dataset, batch_size=batch_size, shuffle=True)\n",
    "valid_loader = DataLoader(validation_dataset, batch_size=batch_size)\n",
    "test_loader = DataLoader(test_dataset, batch_size=batch_size)"
   ]
  },
  {
   "cell_type": "markdown",
   "metadata": {},
   "source": [
    "---\n",
    "# Define the Neural Network Architecture\n",
    "\n",
    "The architecture is responsible for transforming input features into a single target class value between 0-1.  \n"
   ]
  },
  {
   "cell_type": "code",
   "execution_count": 91,
   "metadata": {},
   "outputs": [],
   "source": [
    "# importing NN modules\n",
    "import torch.nn as nn\n",
    "import torch.nn.functional as F\n",
    "\n",
    "class TwoLayerNet(nn.Module):\n",
    "    \n",
    "    ## Defines a single-layer NN\n",
    "    def __init__(self, input_dim, hidden_dim, output_dim):\n",
    "        '''Defines layers of a neural network.\n",
    "           :param input_dim: Number of input features\n",
    "           :param output_dim: Number of outputs\n",
    "         '''\n",
    "        super(TwoLayerNet, self).__init__()\n",
    "                \n",
    "        # define a linear layer, input > output\n",
    "        self.fc1 = nn.Linear(input_dim, hidden_dim)\n",
    "        self.fc2 = nn.Linear(hidden_dim, 32)\n",
    "        self.fc3 = nn.Linear(32, output_dim)\n",
    "        self.sigmoid = nn.Sigmoid()\n",
    "    \n",
    "    ## Defines the feedforward behavior of the network\n",
    "    def forward(self, x):\n",
    "        '''Feedforward behavior of the net.\n",
    "           :param x: A batch of input features\n",
    "           :return: A batch of output values; predictions\n",
    "         '''\n",
    "        out = F.relu(self.fc1(x))\n",
    "        out = F.relu(self.fc2(out))\n",
    "        out = self.fc3(out)\n",
    "        out = self.sigmoid(out) # final output, activation fn to get class probs \n",
    "        return out "
   ]
  },
  {
   "cell_type": "code",
   "execution_count": 92,
   "metadata": {},
   "outputs": [
    {
     "data": {
      "text/plain": [
       "TwoLayerNet(\n",
       "  (fc1): Linear(in_features=7, out_features=128, bias=True)\n",
       "  (fc2): Linear(in_features=128, out_features=32, bias=True)\n",
       "  (fc3): Linear(in_features=32, out_features=1, bias=True)\n",
       "  (sigmoid): Sigmoid()\n",
       ")"
      ]
     },
     "execution_count": 92,
     "metadata": {},
     "output_type": "execute_result"
    }
   ],
   "source": [
    "# instantiating the simple NN with specified dimensions\n",
    "input_dim = 7 # input feats\n",
    "output_dim = 1 # one target value\n",
    "hidden_dim = 128 # nodes in hidden layer\n",
    "\n",
    "model = TwoLayerNet(input_dim, hidden_dim, output_dim)\n",
    "model"
   ]
  },
  {
   "cell_type": "markdown",
   "metadata": {},
   "source": [
    "---\n",
    "# Train Loop\n",
    "\n",
    "This training loop does the following:\n",
    "* Iterate through the training data in batches provided by the `train_loader` \n",
    "* Calculate the training loss (binary cross-entropy) and backpropagate to find the source of this error\n",
    "* Update the weights of this NN to decrease the loss\n",
    "* Calculate the validation loss \n",
    "* At the end of each epoch, save losses in separate train and validation lists\n",
    "\n",
    "By the end of this loop, the model is trained and the next cell displays the two lists of losses. \n"
   ]
  },
  {
   "cell_type": "code",
   "execution_count": 93,
   "metadata": {},
   "outputs": [],
   "source": [
    "criterion = nn.BCELoss()\n",
    "optimizer = torch.optim.Adam(model.parameters(), lr=0.001)"
   ]
  },
  {
   "cell_type": "code",
   "execution_count": 94,
   "metadata": {},
   "outputs": [
    {
     "name": "stdout",
     "output_type": "stream",
     "text": [
      "Epoch: 1 \tTraining Loss: 0.106922 \tValidation Loss: 0.038949\n",
      "Epoch: 2 \tTraining Loss: 0.035220 \tValidation Loss: 0.029312\n",
      "Epoch: 3 \tTraining Loss: 0.030630 \tValidation Loss: 0.025529\n",
      "Epoch: 4 \tTraining Loss: 0.028014 \tValidation Loss: 0.022976\n",
      "Epoch: 5 \tTraining Loss: 0.026686 \tValidation Loss: 0.025006\n",
      "Epoch: 6 \tTraining Loss: 0.025187 \tValidation Loss: 0.022185\n",
      "Epoch: 7 \tTraining Loss: 0.024640 \tValidation Loss: 0.020874\n",
      "Epoch: 8 \tTraining Loss: 0.023626 \tValidation Loss: 0.020215\n",
      "Epoch: 9 \tTraining Loss: 0.023048 \tValidation Loss: 0.020099\n",
      "Epoch: 10 \tTraining Loss: 0.022408 \tValidation Loss: 0.022062\n"
     ]
    }
   ],
   "source": [
    "epochs = 10\n",
    "\n",
    "# train AND validation loop \n",
    "train_loss_list = []\n",
    "valid_loss_list = []\n",
    "\n",
    "for epoch in range(1, epochs + 1):\n",
    "    # keep track of training and validation loss\n",
    "    train_loss = 0.0\n",
    "    valid_loss = 0.0\n",
    "\n",
    "    ###################\n",
    "    # train the model #\n",
    "    ###################\n",
    "    model.train()\n",
    "    for data, target in train_loader:\n",
    "        optimizer.zero_grad() # zero accumulated gradients\n",
    "        # get output of model\n",
    "        output = model(data)\n",
    "        # calculate loss and perform backprop\n",
    "        loss = criterion(output, target)\n",
    "        # backprop + update step\n",
    "        loss.backward()\n",
    "        optimizer.step()\n",
    "        train_loss += loss.item()\n",
    "        \n",
    "    ######################    \n",
    "    # validate the model #\n",
    "    ######################\n",
    "    model.eval() # no gradients calculated during eval\n",
    "    for data, target in valid_loader:\n",
    "        # get output of model\n",
    "        output = model(data)\n",
    "        # calculate loss\n",
    "        loss = criterion(output, target)\n",
    "        valid_loss += loss.item()\n",
    "\n",
    "    # print training/validation statistics \n",
    "    train_loss_list.append(train_loss/len(train_loader))\n",
    "    valid_loss_list.append(valid_loss/len(valid_loader))\n",
    "    \n",
    "    print('Epoch: {} \\tTraining Loss: {:.6f} \\tValidation Loss: {:.6f}'.format(\n",
    "        epoch, train_loss/len(train_loader), valid_loss/len(valid_loader)))"
   ]
  },
  {
   "cell_type": "code",
   "execution_count": 95,
   "metadata": {},
   "outputs": [
    {
     "data": {
      "text/plain": [
       "<matplotlib.legend.Legend at 0x7f9b0179e9a0>"
      ]
     },
     "execution_count": 95,
     "metadata": {},
     "output_type": "execute_result"
    },
    {
     "data": {
      "image/png": "[encoded data removed]",
      "text/plain": [
       "<Figure size 800x600 with 1 Axes>"
      ]
     },
     "metadata": {},
     "output_type": "display_data"
    }
   ],
   "source": [
    "# display losses\n",
    "\n",
    "plt.figure(figsize=(8,6))\n",
    "\n",
    "x = range(epochs)\n",
    "plt.plot(x, train_loss_list, label = 'train_loss')\n",
    "plt.plot(x, valid_loss_list, label = 'validation_loss')\n",
    "plt.legend()"
   ]
  },
  {
   "cell_type": "markdown",
   "metadata": {},
   "source": [
    "---\n",
    "# Analyze and Experiment\n",
    "\n",
    "> **TASK**: Write down one or two _initial_ observations about the provided train/validation loss plot. \n",
    "\n",
    "> * For each observation, make a hypothesis about what could be causing this behavior. \n",
    "> * Then run an experiment to try and improve upon this model and create a smooth training/validation loss graph.\n",
    "\n",
    "Your final submission should include this improved loss graph. "
   ]
  },
  {
   "cell_type": "markdown",
   "metadata": {},
   "source": [
    "**Your observations here:**\n",
    "> * The Loss appears to drop, and the fluctuates within a range. This could indicate a high learning rate.\n",
    "> * The Loss does not appear to drop further after the first epoch, this indicates that the number of epochs should not be the issue."
   ]
  },
  {
   "cell_type": "markdown",
   "metadata": {},
   "source": [
    "\n",
    "### Evaluate your experiments\n",
    "\n",
    "How well do your model experiments perform on the test data? \n",
    "> **TASK**: Write a test loop to calculate the test accuracy of your models."
   ]
  },
  {
   "cell_type": "code",
   "execution_count": 96,
   "metadata": {},
   "outputs": [],
   "source": [
    "# Done Above!!!\n",
    "## Changed Optimizer to Adam\n",
    "## Added another FC Layer and added the ReLU() Activation function to each layer\n",
    "## Decreased the Learning Rate to 0.001"
   ]
  },
  {
   "cell_type": "markdown",
   "metadata": {},
   "source": [
    "Don't forget to unmount the Trove dataset when you're done!"
   ]
  },
  {
   "cell_type": "code",
   "execution_count": 97,
   "metadata": {},
   "outputs": [
    {
     "name": "stdout",
     "output_type": "stream",
     "text": [
      "dataset/run_walk_motion@1.0.0 is umounted from /Users/noahgallego/Desktop/Apple-OBC/Loss_Vis_Ex/temp_data/run_walk_motion-1.0.0/data/table\n",
      "dataset/run_walk_motion@1.0.0 is umounted from /Users/noahgallego/Desktop/Apple-OBC/Loss_Vis_Ex/temp_data/run_walk_motion-1.0.0/data/raw\n",
      "folder /Users/noahgallego/Desktop/Apple-OBC/Loss_Vis_Ex/temp_data/run_walk_motion-1.0.0/data is removed\n",
      "terms.md is removed from /Users/noahgallego/Desktop/Apple-OBC/Loss_Vis_Ex/temp_data/run_walk_motion-1.0.0/terms.md\n",
      "readme.md is removed from /Users/noahgallego/Desktop/Apple-OBC/Loss_Vis_Ex/temp_data/run_walk_motion-1.0.0/readme.md\n",
      "info.json is removed from /Users/noahgallego/Desktop/Apple-OBC/Loss_Vis_Ex/temp_data/run_walk_motion-1.0.0/info.json\n"
     ]
    },
    {
     "name": "stderr",
     "output_type": "stream",
     "text": [
      "/Users/noahgallego/miniconda3/envs/deep-learning/lib/python3.8/site-packages/httpx/_content.py:202: DeprecationWarning: Use 'content=<...>' to upload raw bytes/text content.\n",
      "  warnings.warn(message, DeprecationWarning)\n"
     ]
    }
   ],
   "source": [
    "# UNMOUNT the dataset when you're done\n",
    "trove.umount(TROVE_URI)"
   ]
  }
 ],
 "metadata": {
  "anaconda-cloud": {},
  "kernelspec": {
   "display_name": "Python 3 (ipykernel)",
   "language": "python",
   "name": "python3"
  },
  "language_info": {
   "codemirror_mode": {
    "name": "ipython",
    "version": 3
   },
   "file_extension": ".py",
   "mimetype": "text/x-python",
   "name": "python",
   "nbconvert_exporter": "python",
   "pygments_lexer": "ipython3",
   "version": "3.8.18"
  }
 },
 "nbformat": 4,
 "nbformat_minor": 4
}
