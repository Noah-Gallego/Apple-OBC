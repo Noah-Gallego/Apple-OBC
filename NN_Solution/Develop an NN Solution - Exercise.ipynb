{
 "cells": [
  {
   "cell_type": "markdown",
   "metadata": {},
   "source": [
    "# Develop an NN Solution 🧠\n",
    "\n",
    "Apply your PyTorch skills to the problem of optimized battery charging; training a simple NN to predict the `duration` for how long a user will plug-in and charge their device in future, based on past data. \n",
    "\n",
    "At this point, it is expected that you have two featurized, battery charging datasets: training data and test data. In this notebook, you should load in that data and use it to train and evaluate a simple neural network. \n",
    "\n",
    "This neural network does not need to be your best solution, just a proof-of-concept. \n",
    "\n",
    "> To know whether or not you are on the right track, aim for a test RMSE of around 3hrs. \n",
    "\n",
    "This RMSE (the square root of a squared value) roughly means that the average error in predicting the duration of a plug-in charge event is around 3hrs. The ideal would be 0 average error, but the reality is that being within a few hours of a correct prediction can still be very helpful in deciding when to pause and resume charging, such that battery lifespan can be increased without a sacrifice to the user experience! \n",
    "\n",
    "### Your tasks\n",
    "To create an NN-based solution to OBC, complete the following tasks:\n",
    "\n",
    "**Part 1: Loading Custom Data**\n",
    "\n",
    "1. Load in your train/test battery datasets\n",
    "2. Create DataLoaders for those datasets\n",
    "\n",
    "**Part 2: Training and Evaluating a Simple NN**\n",
    "\n",
    "3. Define and train a simple NN\n",
    "4. Evaluate your NN on some test data, recording the resultant RMSE\n",
    "\n",
    "You may be wondering: *How do I submit this in parts?* \n",
    "\n",
    "> You will be expected to submit this notebook **twice** for grading; once, when you've completed part one, and once when you've completed the entire baseline solution (part two). \n",
    "\n",
    "**Hint**: It may be helpful to reference the codebase for Household Power Prediction, which you saw a while ago—this codebase contains several helper functions for training and testing a model; including converting a typical MSE function into an RMSE value. "
   ]
  },
  {
   "cell_type": "code",
   "execution_count": 61,
   "metadata": {},
   "outputs": [],
   "source": [
    "# Import Nessecary Libraries\n",
    "import torch\n",
    "import torch.nn as nn\n",
    "import torch.optim as optim\n",
    "import sklearn\n",
    "from sklearn.metrics import mean_squared_error, mean_absolute_error\n",
    "from sklearn.preprocessing import StandardScaler\n",
    "from torch.nn import MSELoss\n",
    "from torch.utils.data import Dataset, DataLoader, random_split\n",
    "import pandas as pd"
   ]
  },
  {
   "cell_type": "code",
   "execution_count": 62,
   "metadata": {},
   "outputs": [],
   "source": [
    "class OBC_Dataset(Dataset):\n",
    "    def __init__(self, filename):\n",
    "        # Read-in DataFrame\n",
    "        df = pd.read_csv(filename)\n",
    "\n",
    "        # Separate features and target (target = last column)\n",
    "        input_features = df.iloc[:, :-1].values\n",
    "        target = df.iloc[:, -1:].values\n",
    "        \n",
    "        # Convert features and target into tensors\n",
    "        self.x = torch.tensor(input_features, dtype=torch.float32)\n",
    "        self.y = torch.tensor(target, dtype=torch.float32)\n",
    "\n",
    "    def __len__(self):\n",
    "        # Necessary __len__ method\n",
    "        return len(self.y)\n",
    "\n",
    "    def __getitem__(self, index):\n",
    "        # Necessary fetch item method\n",
    "        return self.x[index], self.y[index]\n",
    "\n",
    "    def split_data(self, n_test):\n",
    "        # Split into desired train-test split\n",
    "        test_size = round(n_test * len(self.x))\n",
    "        train_size = len(self.x) - test_size\n",
    "        return random_split(self, [train_size, test_size])"
   ]
  },
  {
   "cell_type": "code",
   "execution_count": 63,
   "metadata": {},
   "outputs": [],
   "source": [
    "# Get DataFrame\n",
    "df = OBC_Dataset(\"data/scaled_filtered_dataset.csv\")"
   ]
  },
  {
   "cell_type": "code",
   "execution_count": 64,
   "metadata": {},
   "outputs": [],
   "source": [
    "# Split Into Train-Test Split\n",
    "train, test = df.split_data(n_test = 0.2)"
   ]
  },
  {
   "cell_type": "code",
   "execution_count": 65,
   "metadata": {},
   "outputs": [
    {
     "data": {
      "text/plain": [
       "1022650"
      ]
     },
     "execution_count": 65,
     "metadata": {},
     "output_type": "execute_result"
    }
   ],
   "source": [
    "# Examine Train Length to Ensure Validity\n",
    "len(train)"
   ]
  },
  {
   "cell_type": "code",
   "execution_count": 66,
   "metadata": {},
   "outputs": [
    {
     "data": {
      "text/plain": [
       "255662"
      ]
     },
     "execution_count": 66,
     "metadata": {},
     "output_type": "execute_result"
    }
   ],
   "source": [
    "# Examine Test Length to Ensure Validity\n",
    "len(test)"
   ]
  },
  {
   "cell_type": "code",
   "execution_count": 67,
   "metadata": {},
   "outputs": [
    {
     "name": "stdout",
     "output_type": "stream",
     "text": [
      "Features at position:  2 : tensor([  1.0000,   2.0000,  20.0000,   1.8500,   0.0000,  10.0000, 199.2039,\n",
      "          6.0000])\n",
      "\n",
      "\n",
      "Target at position:  2 : tensor([0.2200])\n"
     ]
    }
   ],
   "source": [
    "# Examine Input Features & Target of Sample\n",
    "index = 2\n",
    "features, target = train[index]\n",
    "print(\"Features at position: \", index, \":\", features)\n",
    "print(\"\\n\\nTarget at position: \", index, \":\", target)"
   ]
  },
  {
   "cell_type": "code",
   "execution_count": 68,
   "metadata": {},
   "outputs": [],
   "source": [
    "# Add to Data Loaders\n",
    "train_loader = DataLoader(train, batch_size = 64, shuffle = True)\n",
    "test_loader = DataLoader(test, batch_size = 64)\n",
    "# ------- END OF ASSIGNMENT ONE ------- #"
   ]
  },
  {
   "cell_type": "markdown",
   "metadata": {},
   "source": [
    "# Develop A Neural Network Solution: Part Two 🛠️"
   ]
  },
  {
   "cell_type": "code",
   "execution_count": 69,
   "metadata": {},
   "outputs": [
    {
     "name": "stdout",
     "output_type": "stream",
     "text": [
      "Epoch: 1, Loss: 95400.25622937533\n",
      "Epoch: 2, Loss: 1549.241419843305\n",
      "Epoch: 3, Loss: 990.7338023949178\n",
      "Epoch: 4, Loss: 661.54464214656\n",
      "Epoch: 5, Loss: 514.5609981297339\n",
      "Epoch: 6, Loss: 412.4138351629852\n",
      "Epoch: 7, Loss: 342.6434326548913\n",
      "Epoch: 8, Loss: 259.8928284798867\n",
      "Epoch: 9, Loss: 251.4414346831818\n",
      "Epoch: 10, Loss: 202.8594396838882\n"
     ]
    }
   ],
   "source": [
    "# Define Model Structure\n",
    "class Construct_Model(nn.Sequential):\n",
    "    def __init__(self, input_dim, hidden_dimension_1, hidden_dimension_2, output_dim):\n",
    "        super(Construct_Model, self).__init__(\n",
    "            nn.Linear(input_dim, 64),\n",
    "            nn.ReLU(),\n",
    "            nn.Linear(64, 1)\n",
    "        )\n",
    "\n",
    "# Define Dimensions\n",
    "input_dim = 8\n",
    "hidden_1 = 256\n",
    "hidden_2 = 128\n",
    "output_dim = 1\n",
    "\n",
    "# Device setup for compatibility with GPU\n",
    "device = torch.device(\"cuda\" if torch.cuda.is_available() else \"cpu\")\n",
    "\n",
    "# Define Loss Function, Construct Model, Epochs, & Define Optimizer\n",
    "criterion = nn.MSELoss()\n",
    "model = Construct_Model(input_dim, hidden_1, hidden_2, output_dim).to(device)\n",
    "optimizer = torch.optim.Adam(model.parameters(), lr=0.00001)\n",
    "num_epochs = 10\n",
    "\n",
    "# Train The Model\n",
    "model.train()\n",
    "for epoch in range(1, num_epochs + 1):\n",
    "    train_loss = 0.0\n",
    "    for data, target in train_loader:\n",
    "        # Move data and target to the same device as model\n",
    "        data, target = data.to(device), target.to(device)\n",
    "        \n",
    "        # Forward pass\n",
    "        optimizer.zero_grad()\n",
    "        output = model(data)\n",
    "        \n",
    "        # Compute loss\n",
    "        loss = criterion(output, target)\n",
    "        loss.backward()\n",
    "        \n",
    "        # Update weights\n",
    "        optimizer.step()\n",
    "        \n",
    "        # Accumulate training loss\n",
    "        train_loss += loss.item()\n",
    "    \n",
    "    # Print epoch training loss\n",
    "    print(f\"Epoch: {epoch}, Loss: {train_loss / len(train_loader)}\")"
   ]
  },
  {
   "cell_type": "code",
   "execution_count": 71,
   "metadata": {},
   "outputs": [],
   "source": [
    "model.eval()\n",
    "def evaluate_model(model, test_loader, criterion):\n",
    "    test_loss = 0.0\n",
    "    num_batches = 0\n",
    "    \n",
    "    with torch.no_grad():  # Disable gradient computation\n",
    "        for data, target in test_loader:\n",
    "            # Move data to the same device as model\n",
    "            data, target = data.to(device), target.to(device)\n",
    "            \n",
    "            # Get model predictions\n",
    "            output = model(data)\n",
    "            \n",
    "            # Calculate batch loss\n",
    "            loss = torch.sqrt(criterion(output, target))\n",
    "            test_loss += loss.item()\n",
    "            num_batches += 1\n",
    "    \n",
    "    # Calculate average loss\n",
    "    avg_loss = test_loss / num_batches\n",
    "    \n",
    "    return avg_loss"
   ]
  },
  {
   "cell_type": "code",
   "execution_count": 81,
   "metadata": {},
   "outputs": [
    {
     "name": "stdout",
     "output_type": "stream",
     "text": [
      "Our RMSE is: 1.1711138074478609 ; indicating that on average, our prediction is off by 2 hours. 🥳\n"
     ]
    }
   ],
   "source": [
    "# Fetch RSME\n",
    "test_rmse = evaluate_model(model, test_loader, criterion)\n",
    "\n",
    "# Multiply by 100 to re-scale data\n",
    "print(\"Our RMSE is:\", test_rmse, \"; indicating that on average, our prediction is off by\", round((test_rmse * 100) / 60), \"hours. 🥳\")"
   ]
  }
 ],
 "metadata": {
  "kernelspec": {
   "display_name": "Python 3 (ipykernel)",
   "language": "python",
   "name": "python3"
  },
  "language_info": {
   "codemirror_mode": {
    "name": "ipython",
    "version": 3
   },
   "file_extension": ".py",
   "mimetype": "text/x-python",
   "name": "python",
   "nbconvert_exporter": "python",
   "pygments_lexer": "ipython3",
   "version": "3.8.18"
  }
 },
 "nbformat": 4,
 "nbformat_minor": 4
}
