{
 "cells": [
  {
   "cell_type": "markdown",
   "metadata": {},
   "source": [
    "# Simple NN for Activity Classification\n",
    "---\n",
    "This notebook contains _incomplete_ code to train a neural net to predict an activity—running or walking—based on some provided user motion data. \n",
    "\n",
    "### The data\n",
    "\n",
    "The data is a single csv file of accelerometer and gyroscope readings, collected from users' watches in 10 second intervals. Each data point is tagged as one of two activity types: running or walking. \n",
    "\n",
    "> Take a quick look at this data in Trove, where each column is described: [Run or walk data in Trove](https://trove.apple.com/dataset/run_walk_motion/1.0.0). \n",
    "\n",
    "### NN model creation\n",
    "\n",
    "Andy has started the process of creating and training a neural net, but it will be up to you to fix his code, and improve upon it! \n",
    "\n",
    "The **goal** of this notebook is that you gain experience defining neural nets in PyTorch code in multiple ways, and gain some intuition for what choices you can make to get better performing models.\n",
    "\n",
    "This notebook is broken up into the following NN model creation steps:\n",
    ">1. Load the data\n",
    "2. Create train/test dataloaders\n",
    "3. Define a neural network\n",
    "4. Train the model\n",
    "5. Evaluate the performance of our trained model on a test dataset\n",
    "6. Un-mount the Trove data\n",
    "7. UX Considerations\n",
    "\n",
    "Andy has gotten up to step 3, but his code to train a neural net is incomplete. Can you fix Andy's code, and create an NN model of your own that achieves better performance? \n",
    "\n",
    "As usual, your tasks will be marked as **TASKS** in markdown and as `## TODO's` in code. \n",
    "\n",
    "> **TASK**: Run the provided code to load the data and create train and test dataloaders. "
   ]
  },
  {
   "cell_type": "code",
   "execution_count": 1,
   "metadata": {},
   "outputs": [
    {
     "name": "stderr",
     "output_type": "stream",
     "text": [
      "/Users/noahgallego/miniconda3/envs/deep-learning/lib/python3.8/site-packages/_distutils_hack/__init__.py:32: UserWarning: Setuptools is replacing distutils. Support for replacing an already imported distutils is deprecated. In the future, this condition will fail. Register concerns at https://github.com/pypa/setuptools/issues/new?template=distutils-deprecation.yml\n",
      "  warnings.warn(\n"
     ]
    }
   ],
   "source": [
    "## run provided code\n",
    "\n",
    "# import PyTorch libraries\n",
    "import torch\n",
    "from torch.utils.data import DataLoader\n",
    "torch.manual_seed(0) # reproducibility\n",
    "\n",
    "# import data libraries\n",
    "import turitrove as trove\n",
    "import pandas as pd\n",
    "import os\n",
    "import numpy as np\n",
    "import matplotlib.pyplot as plt\n",
    "\n",
    "import warnings\n",
    "warnings.filterwarnings(\"ignore\")"
   ]
  },
  {
   "cell_type": "markdown",
   "metadata": {},
   "source": [
    "---\n",
    "# Load the Data\n",
    "\n",
    "\n",
    "The following cells load run/walk activity data from Trove as a DataFrame."
   ]
  },
  {
   "cell_type": "code",
   "execution_count": 2,
   "metadata": {},
   "outputs": [
    {
     "name": "stdout",
     "output_type": "stream",
     "text": [
      "dataset/run_walk_motion@1.0.0 is not mounted\n",
      "Failed to connect to dataset run_walk_motion@1.0.0. Error:     <class 'turitrove._service.service_api.errors.TroveServiceNetworkError'>\n",
      "    ClientRequestID: 5509adac-2aaa-4997-94ed-7be7a6412c0d, Function 'send_api_request' failed.: HTTPSConnectionPool(host='turitrove-api.apple.com', port=443): Max retries exceeded with url: /api/v2/terms/dataset/run_walk_motion/1.0.0 (Caused by NewConnectionError('<urllib3.connection.HTTPSConnection object at 0x7fc822a1dbb0>: Failed to establish a new connection: [Errno 8] nodename nor servname provided, or not known'))\n",
      "\n",
      "    Status: None, System error. Most likely be an intermittent networking issue.\n",
      "    Automatically retry for a limited time.\n",
      "<class 'requests.exceptions.ConnectionError'>: HTTPSConnectionPool(host='turitrove-api.apple.com', port=443): Max retries exceeded with url: /api/v2/terms/dataset/run_walk_motion/1.0.0 (Caused by NewConnectionError('<urllib3.connection.HTTPSConnection object at 0x7fc822a1dbb0>: Failed to establish a new connection: [Errno 8] nodename nor servname provided, or not known'))\n",
      "mount in progress: /Users/noahgallego/Desktop/Apple-OBC/Refactor_Activity_Classification/temp_data/run_walk_motion-1.0.0/data/table\n",
      "26.3KB disk space allocated for caching /Users/noahgallego/Desktop/Apple-OBC/Refactor_Activity_Classification/temp_data/run_walk_motion-1.0.0/data/table\n"
     ]
    },
    {
     "name": "stderr",
     "output_type": "stream",
     "text": [
      "\u001b[38;2;0;255;0m100%\u001b[39m (\u001b[38;2;0;255;0m100 of 100\u001b[39m) |######################################|Elapsed Time: 0:00:06"
     ]
    },
    {
     "name": "stdout",
     "output_type": "stream",
     "text": [
      "\n",
      "Mount succeeded\n",
      "mount in progress: /Users/noahgallego/Desktop/Apple-OBC/Refactor_Activity_Classification/temp_data/run_walk_motion-1.0.0/data/raw\n",
      "7.2MB disk space allocated for caching /Users/noahgallego/Desktop/Apple-OBC/Refactor_Activity_Classification/temp_data/run_walk_motion-1.0.0/data/raw\n"
     ]
    },
    {
     "name": "stderr",
     "output_type": "stream",
     "text": [
      "\u001b[38;2;0;255;0m100%\u001b[39m (\u001b[38;2;0;255;0m100 of 100\u001b[39m) |######################################|Elapsed Time: 0:00:00"
     ]
    },
    {
     "name": "stdout",
     "output_type": "stream",
     "text": [
      "\n",
      "Mount succeeded\n",
      "dataset/run_walk_motion@1.0.0 is mounted at /Users/noahgallego/Desktop/Apple-OBC/Refactor_Activity_Classification/temp_data\n"
     ]
    }
   ],
   "source": [
    "# load data from Trove\n",
    "\n",
    "TROVE_URI = 'dataset/run_walk_motion@1.0.0'\n",
    "trove.umount(TROVE_URI)\n",
    "\n",
    "# check for temp_data dir, if not found, make one and mount the dataset\n",
    "if not os.path.isdir('temp_data'):\n",
    "    os.makedirs('temp_data')\n",
    "\n",
    "activity_dataset = trove.mount(TROVE_URI, 'temp_data')"
   ]
  },
  {
   "cell_type": "code",
   "execution_count": 4,
   "metadata": {},
   "outputs": [
    {
     "data": {
      "text/html": [
       "<div>\n",
       "<style scoped>\n",
       "    .dataframe tbody tr th:only-of-type {\n",
       "        vertical-align: middle;\n",
       "    }\n",
       "\n",
       "    .dataframe tbody tr th {\n",
       "        vertical-align: top;\n",
       "    }\n",
       "\n",
       "    .dataframe thead th {\n",
       "        text-align: right;\n",
       "    }\n",
       "</style>\n",
       "<table border=\"1\" class=\"dataframe\">\n",
       "  <thead>\n",
       "    <tr style=\"text-align: right;\">\n",
       "      <th></th>\n",
       "      <th>date</th>\n",
       "      <th>time</th>\n",
       "      <th>username</th>\n",
       "      <th>wrist</th>\n",
       "      <th>activity</th>\n",
       "      <th>acceleration_x</th>\n",
       "      <th>acceleration_y</th>\n",
       "      <th>acceleration_z</th>\n",
       "      <th>gyro_x</th>\n",
       "      <th>gyro_y</th>\n",
       "      <th>gyro_z</th>\n",
       "    </tr>\n",
       "  </thead>\n",
       "  <tbody>\n",
       "    <tr>\n",
       "      <th>0</th>\n",
       "      <td>2017-6-30</td>\n",
       "      <td>13:51:15:847724020</td>\n",
       "      <td>viktor</td>\n",
       "      <td>0</td>\n",
       "      <td>0</td>\n",
       "      <td>0.2650</td>\n",
       "      <td>-0.7814</td>\n",
       "      <td>-0.0076</td>\n",
       "      <td>-0.0590</td>\n",
       "      <td>0.0325</td>\n",
       "      <td>-2.9296</td>\n",
       "    </tr>\n",
       "    <tr>\n",
       "      <th>1</th>\n",
       "      <td>2017-6-30</td>\n",
       "      <td>13:51:16:246945023</td>\n",
       "      <td>viktor</td>\n",
       "      <td>0</td>\n",
       "      <td>0</td>\n",
       "      <td>0.6722</td>\n",
       "      <td>-1.1233</td>\n",
       "      <td>-0.2344</td>\n",
       "      <td>-0.1757</td>\n",
       "      <td>0.0208</td>\n",
       "      <td>0.1269</td>\n",
       "    </tr>\n",
       "    <tr>\n",
       "      <th>2</th>\n",
       "      <td>2017-6-30</td>\n",
       "      <td>13:51:16:446233987</td>\n",
       "      <td>viktor</td>\n",
       "      <td>0</td>\n",
       "      <td>0</td>\n",
       "      <td>0.4399</td>\n",
       "      <td>-1.4817</td>\n",
       "      <td>0.0722</td>\n",
       "      <td>-0.9105</td>\n",
       "      <td>0.1063</td>\n",
       "      <td>-2.4367</td>\n",
       "    </tr>\n",
       "    <tr>\n",
       "      <th>3</th>\n",
       "      <td>2017-6-30</td>\n",
       "      <td>13:51:16:646117985</td>\n",
       "      <td>viktor</td>\n",
       "      <td>0</td>\n",
       "      <td>0</td>\n",
       "      <td>0.3031</td>\n",
       "      <td>-0.8125</td>\n",
       "      <td>0.0888</td>\n",
       "      <td>0.1199</td>\n",
       "      <td>-0.4099</td>\n",
       "      <td>-2.9336</td>\n",
       "    </tr>\n",
       "    <tr>\n",
       "      <th>4</th>\n",
       "      <td>2017-6-30</td>\n",
       "      <td>13:51:16:846738994</td>\n",
       "      <td>viktor</td>\n",
       "      <td>0</td>\n",
       "      <td>0</td>\n",
       "      <td>0.4814</td>\n",
       "      <td>-0.9312</td>\n",
       "      <td>0.0359</td>\n",
       "      <td>0.0527</td>\n",
       "      <td>0.4379</td>\n",
       "      <td>2.4922</td>\n",
       "    </tr>\n",
       "  </tbody>\n",
       "</table>\n",
       "</div>"
      ],
      "text/plain": [
       "        date                time username  wrist  activity  acceleration_x  \\\n",
       "0  2017-6-30  13:51:15:847724020   viktor      0         0          0.2650   \n",
       "1  2017-6-30  13:51:16:246945023   viktor      0         0          0.6722   \n",
       "2  2017-6-30  13:51:16:446233987   viktor      0         0          0.4399   \n",
       "3  2017-6-30  13:51:16:646117985   viktor      0         0          0.3031   \n",
       "4  2017-6-30  13:51:16:846738994   viktor      0         0          0.4814   \n",
       "\n",
       "   acceleration_y  acceleration_z  gyro_x  gyro_y  gyro_z  \n",
       "0         -0.7814         -0.0076 -0.0590  0.0325 -2.9296  \n",
       "1         -1.1233         -0.2344 -0.1757  0.0208  0.1269  \n",
       "2         -1.4817          0.0722 -0.9105  0.1063 -2.4367  \n",
       "3         -0.8125          0.0888  0.1199 -0.4099 -2.9336  \n",
       "4         -0.9312          0.0359  0.0527  0.4379  2.4922  "
      ]
     },
     "execution_count": 4,
     "metadata": {},
     "output_type": "execute_result"
    }
   ],
   "source": [
    "# make dataframe from csv path\n",
    "\n",
    "data_path = activity_dataset.raw_file_path + '/'+ activity_dataset.primary_index['path'][0]\n",
    "df = pd.read_csv(data_path)\n",
    "df.head()"
   ]
  },
  {
   "cell_type": "markdown",
   "metadata": {},
   "source": [
    "### Explore the data\n",
    "\n",
    "Andy has done some data exploration to see the amount of data and number of users in the provided data.\n",
    "\n",
    "> **TASK**: Write some code to answer the question: What percentage of this data is tagged as walking vs. running? \n",
    "\n",
    "The answer to this question should give you a good idea of whether you have _enough_ data for each class to make accurate predictions. "
   ]
  },
  {
   "cell_type": "code",
   "execution_count": 5,
   "metadata": {},
   "outputs": [
    {
     "name": "stdout",
     "output_type": "stream",
     "text": [
      "# rows:  88588\n",
      "\n",
      "Unique users:  1\n"
     ]
    },
    {
     "data": {
      "text/html": [
       "<div>\n",
       "<style scoped>\n",
       "    .dataframe tbody tr th:only-of-type {\n",
       "        vertical-align: middle;\n",
       "    }\n",
       "\n",
       "    .dataframe tbody tr th {\n",
       "        vertical-align: top;\n",
       "    }\n",
       "\n",
       "    .dataframe thead th {\n",
       "        text-align: right;\n",
       "    }\n",
       "</style>\n",
       "<table border=\"1\" class=\"dataframe\">\n",
       "  <thead>\n",
       "    <tr style=\"text-align: right;\">\n",
       "      <th></th>\n",
       "      <th>wrist</th>\n",
       "      <th>activity</th>\n",
       "      <th>acceleration_x</th>\n",
       "      <th>acceleration_y</th>\n",
       "      <th>acceleration_z</th>\n",
       "      <th>gyro_x</th>\n",
       "      <th>gyro_y</th>\n",
       "      <th>gyro_z</th>\n",
       "    </tr>\n",
       "  </thead>\n",
       "  <tbody>\n",
       "    <tr>\n",
       "      <th>count</th>\n",
       "      <td>88588.000000</td>\n",
       "      <td>88588.000000</td>\n",
       "      <td>88588.000000</td>\n",
       "      <td>88588.000000</td>\n",
       "      <td>88588.000000</td>\n",
       "      <td>88588.000000</td>\n",
       "      <td>88588.000000</td>\n",
       "      <td>88588.000000</td>\n",
       "    </tr>\n",
       "    <tr>\n",
       "      <th>mean</th>\n",
       "      <td>0.522170</td>\n",
       "      <td>0.500801</td>\n",
       "      <td>-0.074811</td>\n",
       "      <td>-0.562585</td>\n",
       "      <td>-0.313956</td>\n",
       "      <td>0.004160</td>\n",
       "      <td>0.037203</td>\n",
       "      <td>0.022327</td>\n",
       "    </tr>\n",
       "    <tr>\n",
       "      <th>std</th>\n",
       "      <td>0.499511</td>\n",
       "      <td>0.500002</td>\n",
       "      <td>1.009299</td>\n",
       "      <td>0.658458</td>\n",
       "      <td>0.486815</td>\n",
       "      <td>1.253423</td>\n",
       "      <td>1.198725</td>\n",
       "      <td>1.914423</td>\n",
       "    </tr>\n",
       "    <tr>\n",
       "      <th>min</th>\n",
       "      <td>0.000000</td>\n",
       "      <td>0.000000</td>\n",
       "      <td>-5.350500</td>\n",
       "      <td>-3.299000</td>\n",
       "      <td>-3.753800</td>\n",
       "      <td>-4.430600</td>\n",
       "      <td>-7.464700</td>\n",
       "      <td>-9.480000</td>\n",
       "    </tr>\n",
       "    <tr>\n",
       "      <th>25%</th>\n",
       "      <td>0.000000</td>\n",
       "      <td>0.000000</td>\n",
       "      <td>-0.381800</td>\n",
       "      <td>-1.033500</td>\n",
       "      <td>-0.376000</td>\n",
       "      <td>-0.920700</td>\n",
       "      <td>-0.644825</td>\n",
       "      <td>-1.345125</td>\n",
       "    </tr>\n",
       "    <tr>\n",
       "      <th>50%</th>\n",
       "      <td>1.000000</td>\n",
       "      <td>1.000000</td>\n",
       "      <td>-0.059500</td>\n",
       "      <td>-0.759100</td>\n",
       "      <td>-0.221000</td>\n",
       "      <td>0.018700</td>\n",
       "      <td>0.039300</td>\n",
       "      <td>0.006900</td>\n",
       "    </tr>\n",
       "    <tr>\n",
       "      <th>75%</th>\n",
       "      <td>1.000000</td>\n",
       "      <td>1.000000</td>\n",
       "      <td>0.355500</td>\n",
       "      <td>-0.241775</td>\n",
       "      <td>-0.085900</td>\n",
       "      <td>0.888800</td>\n",
       "      <td>0.733700</td>\n",
       "      <td>1.398200</td>\n",
       "    </tr>\n",
       "    <tr>\n",
       "      <th>max</th>\n",
       "      <td>1.000000</td>\n",
       "      <td>1.000000</td>\n",
       "      <td>5.603300</td>\n",
       "      <td>2.668000</td>\n",
       "      <td>1.640300</td>\n",
       "      <td>4.874200</td>\n",
       "      <td>8.498000</td>\n",
       "      <td>11.266200</td>\n",
       "    </tr>\n",
       "  </tbody>\n",
       "</table>\n",
       "</div>"
      ],
      "text/plain": [
       "              wrist      activity  acceleration_x  acceleration_y  \\\n",
       "count  88588.000000  88588.000000    88588.000000    88588.000000   \n",
       "mean       0.522170      0.500801       -0.074811       -0.562585   \n",
       "std        0.499511      0.500002        1.009299        0.658458   \n",
       "min        0.000000      0.000000       -5.350500       -3.299000   \n",
       "25%        0.000000      0.000000       -0.381800       -1.033500   \n",
       "50%        1.000000      1.000000       -0.059500       -0.759100   \n",
       "75%        1.000000      1.000000        0.355500       -0.241775   \n",
       "max        1.000000      1.000000        5.603300        2.668000   \n",
       "\n",
       "       acceleration_z        gyro_x        gyro_y        gyro_z  \n",
       "count    88588.000000  88588.000000  88588.000000  88588.000000  \n",
       "mean        -0.313956      0.004160      0.037203      0.022327  \n",
       "std          0.486815      1.253423      1.198725      1.914423  \n",
       "min         -3.753800     -4.430600     -7.464700     -9.480000  \n",
       "25%         -0.376000     -0.920700     -0.644825     -1.345125  \n",
       "50%         -0.221000      0.018700      0.039300      0.006900  \n",
       "75%         -0.085900      0.888800      0.733700      1.398200  \n",
       "max          1.640300      4.874200      8.498000     11.266200  "
      ]
     },
     "execution_count": 5,
     "metadata": {},
     "output_type": "execute_result"
    }
   ],
   "source": [
    "# explore data a bit\n",
    "\n",
    "# how much data?\n",
    "print('# rows: ', len(df))\n",
    "print()\n",
    "# how many users?\n",
    "print('Unique users: ', len(df['username'].unique()))\n",
    "# descriptive stats\n",
    "df.describe()"
   ]
  },
  {
   "cell_type": "code",
   "execution_count": 13,
   "metadata": {},
   "outputs": [
    {
     "data": {
      "text/plain": [
       "Text(0, 0.5, 'Count')"
      ]
     },
     "execution_count": 13,
     "metadata": {},
     "output_type": "execute_result"
    },
    {
     "data": {
      "image/png": "[encoded data removed]",
      "text/plain": [
       "<Figure size 640x480 with 1 Axes>"
      ]
     },
     "metadata": {},
     "output_type": "display_data"
    }
   ],
   "source": [
    "## TODO: Find the distribution of run/walk data\n",
    "run_data = df[df['activity'] == 1]\n",
    "walk_data = df[df['activity'] == 0]\n",
    "\n",
    "activity_distribution = df['activity'].value_counts()\n",
    "activity_distribution.plot(kind = 'bar', color = ['b', 'r'])\n",
    "\n",
    "plt.title('Distribution of Run/Walk Activities')\n",
    "plt.xlabel('Activity')\n",
    "plt.ylabel('Count')"
   ]
  },
  {
   "cell_type": "markdown",
   "metadata": {},
   "source": [
    "### Format and save for model training\n",
    "\n",
    "This cell formats the DataFrame for model training; dropping non-featurized columns of data and moving the target to be the last column.\n",
    "\n",
    "Finally, the formatted data is saved in a local `data/` directory as a binary file `run_walk_formatted.pkl`, which can be read in again, later in the notebook. "
   ]
  },
  {
   "cell_type": "code",
   "execution_count": 14,
   "metadata": {},
   "outputs": [
    {
     "data": {
      "text/html": [
       "<div>\n",
       "<style scoped>\n",
       "    .dataframe tbody tr th:only-of-type {\n",
       "        vertical-align: middle;\n",
       "    }\n",
       "\n",
       "    .dataframe tbody tr th {\n",
       "        vertical-align: top;\n",
       "    }\n",
       "\n",
       "    .dataframe thead th {\n",
       "        text-align: right;\n",
       "    }\n",
       "</style>\n",
       "<table border=\"1\" class=\"dataframe\">\n",
       "  <thead>\n",
       "    <tr style=\"text-align: right;\">\n",
       "      <th></th>\n",
       "      <th>wrist</th>\n",
       "      <th>acceleration_x</th>\n",
       "      <th>acceleration_y</th>\n",
       "      <th>acceleration_z</th>\n",
       "      <th>gyro_x</th>\n",
       "      <th>gyro_y</th>\n",
       "      <th>gyro_z</th>\n",
       "      <th>activity</th>\n",
       "    </tr>\n",
       "  </thead>\n",
       "  <tbody>\n",
       "    <tr>\n",
       "      <th>0</th>\n",
       "      <td>0</td>\n",
       "      <td>0.2650</td>\n",
       "      <td>-0.7814</td>\n",
       "      <td>-0.0076</td>\n",
       "      <td>-0.0590</td>\n",
       "      <td>0.0325</td>\n",
       "      <td>-2.9296</td>\n",
       "      <td>0</td>\n",
       "    </tr>\n",
       "    <tr>\n",
       "      <th>1</th>\n",
       "      <td>0</td>\n",
       "      <td>0.6722</td>\n",
       "      <td>-1.1233</td>\n",
       "      <td>-0.2344</td>\n",
       "      <td>-0.1757</td>\n",
       "      <td>0.0208</td>\n",
       "      <td>0.1269</td>\n",
       "      <td>0</td>\n",
       "    </tr>\n",
       "    <tr>\n",
       "      <th>2</th>\n",
       "      <td>0</td>\n",
       "      <td>0.4399</td>\n",
       "      <td>-1.4817</td>\n",
       "      <td>0.0722</td>\n",
       "      <td>-0.9105</td>\n",
       "      <td>0.1063</td>\n",
       "      <td>-2.4367</td>\n",
       "      <td>0</td>\n",
       "    </tr>\n",
       "    <tr>\n",
       "      <th>3</th>\n",
       "      <td>0</td>\n",
       "      <td>0.3031</td>\n",
       "      <td>-0.8125</td>\n",
       "      <td>0.0888</td>\n",
       "      <td>0.1199</td>\n",
       "      <td>-0.4099</td>\n",
       "      <td>-2.9336</td>\n",
       "      <td>0</td>\n",
       "    </tr>\n",
       "    <tr>\n",
       "      <th>4</th>\n",
       "      <td>0</td>\n",
       "      <td>0.4814</td>\n",
       "      <td>-0.9312</td>\n",
       "      <td>0.0359</td>\n",
       "      <td>0.0527</td>\n",
       "      <td>0.4379</td>\n",
       "      <td>2.4922</td>\n",
       "      <td>0</td>\n",
       "    </tr>\n",
       "  </tbody>\n",
       "</table>\n",
       "</div>"
      ],
      "text/plain": [
       "   wrist  acceleration_x  acceleration_y  acceleration_z  gyro_x  gyro_y  \\\n",
       "0      0          0.2650         -0.7814         -0.0076 -0.0590  0.0325   \n",
       "1      0          0.6722         -1.1233         -0.2344 -0.1757  0.0208   \n",
       "2      0          0.4399         -1.4817          0.0722 -0.9105  0.1063   \n",
       "3      0          0.3031         -0.8125          0.0888  0.1199 -0.4099   \n",
       "4      0          0.4814         -0.9312          0.0359  0.0527  0.4379   \n",
       "\n",
       "   gyro_z  activity  \n",
       "0 -2.9296         0  \n",
       "1  0.1269         0  \n",
       "2 -2.4367         0  \n",
       "3 -2.9336         0  \n",
       "4  2.4922         0  "
      ]
     },
     "execution_count": 14,
     "metadata": {},
     "output_type": "execute_result"
    }
   ],
   "source": [
    "# prep for model training, format data\n",
    "\n",
    "# date, time, username columns dropped \n",
    "df_formatted = df.drop(['date', 'time', 'username'], axis=1)\n",
    "# put target (activity) column last\n",
    "column_order = ['wrist', 'acceleration_x', 'acceleration_y', 'acceleration_z', \n",
    "                'gyro_x', 'gyro_y', 'gyro_z','activity']\n",
    "df_formatted = df_formatted.reindex(columns=column_order)\n",
    "df_formatted.head()"
   ]
  },
  {
   "cell_type": "code",
   "execution_count": 16,
   "metadata": {},
   "outputs": [],
   "source": [
    "# save as pkl file \n",
    "if not os.path.isdir('data'):\n",
    "    os.makedirs('data')\n",
    "    \n",
    "# save to local data/ dir\n",
    "df_formatted.to_pickle('data/run_walk_formatted.pkl')"
   ]
  },
  {
   "cell_type": "markdown",
   "metadata": {},
   "source": [
    "### Create a dataset\n",
    "\n",
    "The following code creates one dataset that loads in the formatted csv as **tensors**; where each sample of data holds input features and one, corresponding target `activity` variable."
   ]
  },
  {
   "cell_type": "code",
   "execution_count": 21,
   "metadata": {},
   "outputs": [],
   "source": [
    "# create dataset\n",
    "\n",
    "from helpers import RunWalkDataset\n",
    "run_walk_dataset = RunWalkDataset('data/run_walk_formatted.pkl')"
   ]
  },
  {
   "cell_type": "code",
   "execution_count": 22,
   "metadata": {},
   "outputs": [
    {
     "name": "stdout",
     "output_type": "stream",
     "text": [
      "\n",
      "(tensor([ 0.0000,  0.2650, -0.7814, -0.0076, -0.0590,  0.0325, -2.9296]), tensor([0.]))\n",
      "\n",
      "(tensor([ 0.0000,  0.6722, -1.1233, -0.2344, -0.1757,  0.0208,  0.1269]), tensor([0.]))\n",
      "\n",
      "(tensor([ 0.0000,  0.4399, -1.4817,  0.0722, -0.9105,  0.1063, -2.4367]), tensor([0.]))\n"
     ]
    }
   ],
   "source": [
    "# print out a few (3) samples to see that it looks right\n",
    "for i in range(3):\n",
    "    sample = run_walk_dataset[i]\n",
    "    print()\n",
    "    print(sample)"
   ]
  },
  {
   "cell_type": "markdown",
   "metadata": {},
   "source": [
    "### DataLoaders for Train/Test Datasets\n",
    "\n",
    "DataLoaders allow you to do things like batch data, shuffle data, etc.—they are the standard way to iterate through data for training a PyTorch model.\n",
    "\n",
    "The below code also _randomly_ splits the single, loaded RunWalkDataset into separate train and test datasets. \n",
    "\n",
    "> **TASK**: Critique Andy's method for splitting this data (you do not need to change the code).\n",
    "\n",
    "> In a sentence or two, describe one thing about the below split is good practice and one thing that is not. "
   ]
  },
  {
   "cell_type": "markdown",
   "metadata": {},
   "source": [
    "**Answer:**\n",
    "* **Good:** Andy correctly split the data into train/test sets at random which could help avoid bias.\n",
    "* **Bad:** The data is organized by time originally, and splits at random aren't gnerally used for time-series data."
   ]
  },
  {
   "cell_type": "code",
   "execution_count": 26,
   "metadata": {},
   "outputs": [],
   "source": [
    "from torch.utils.data import random_split\n",
    "\n",
    "# split data into train and test sets randomly ~ 80/20\n",
    "\n",
    "# lengths or # samples in each dataset\n",
    "split_80 = len(run_walk_dataset)*80//100\n",
    "split_20 = len(run_walk_dataset) - split_80\n",
    "\n",
    "# random split\n",
    "train_dataset, test_dataset = random_split(run_walk_dataset, [split_80, split_20])\n",
    "\n",
    "# how many samples per batch\n",
    "batch_size = 64\n",
    "\n",
    "# train and test loaders\n",
    "train_loader = DataLoader(train_dataset, batch_size=batch_size)\n",
    "test_loader = DataLoader(test_dataset, batch_size=batch_size)"
   ]
  },
  {
   "cell_type": "markdown",
   "metadata": {},
   "source": [
    "---\n",
    "# Define the Neural Network Architecture\n",
    "\n",
    "The architecture should be responsible for transforming input features into a single target class value between 0-1. \n",
    "\n",
    "> **TASK**: Something is missing from Andy's code, find out what it is and fix it so that you can train and calculate test metrics on this model.  \n"
   ]
  },
  {
   "cell_type": "code",
   "execution_count": 31,
   "metadata": {},
   "outputs": [],
   "source": [
    "# importing NN modules\n",
    "import torch.nn as nn\n",
    "import torch.nn.functional as F\n",
    "\n",
    "## TODO: Fix Andy's code\n",
    "\n",
    "class AndyNet(nn.Module):\n",
    "    \n",
    "    ## Defines a single-layer NN\n",
    "    def __init__(self, input_dim, output_dim):\n",
    "        '''Defines layers of a neural network.\n",
    "           :param input_dim: Number of input features\n",
    "           :param output_dim: Number of outputs\n",
    "         '''\n",
    "        super(AndyNet, self).__init__()\n",
    "                \n",
    "        # define a linear layer, input > output\n",
    "        self.fc1 = nn.Linear(input_dim, output_dim)\n",
    "        \n",
    "    \n",
    "    ## Defines the feedforward behavior of the network\n",
    "    def forward(self, x):\n",
    "        '''Feedforward behavior of the net.\n",
    "           :param x: A batch of input features\n",
    "           :return: A batch of output values; predictions\n",
    "         '''\n",
    "        out = self.fc1(x)\n",
    "        out = F.sigmoid(out) # <==== Re-Defined with F as sigmoid is not defined in Constructor\n",
    "        return out "
   ]
  },
  {
   "cell_type": "code",
   "execution_count": 32,
   "metadata": {},
   "outputs": [
    {
     "data": {
      "text/plain": [
       "AndyNet(\n",
       "  (fc1): Linear(in_features=7, out_features=1, bias=True)\n",
       ")"
      ]
     },
     "execution_count": 32,
     "metadata": {},
     "output_type": "execute_result"
    }
   ],
   "source": [
    "# instantiating the simple NN with specified dimensions\n",
    "\n",
    "input_dim = 7 # input feats\n",
    "output_dim = 1 # one target value\n",
    "\n",
    "model = AndyNet(input_dim, output_dim)\n",
    "\n",
    "# print model layers (from init fn)\n",
    "model"
   ]
  },
  {
   "cell_type": "markdown",
   "metadata": {},
   "source": [
    "### Define loss and optimization strategy\n",
    "\n",
    "The loss function defines what a network tries to minimize in terms of comparing actual versus predicted values. \n",
    "\n",
    "In classification tasks, it is common to use a **cross entropy loss**; here since there is only one value output by the model—a value between 0-1—there is a special *binary* cross entropy loss, `BCELoss`. \n",
    "\n",
    "The optimizer defines how a neural network's weights update, as a result of trying to minimize the loss function. "
   ]
  },
  {
   "cell_type": "code",
   "execution_count": 39,
   "metadata": {},
   "outputs": [],
   "source": [
    "# loss function (categorical cross-entropy for classification)\n",
    "criterion = nn.BCELoss()\n",
    "\n",
    "# optimizer (stochastic gradient descent) and learning rate = 0.01\n",
    "optimizer = torch.optim.SGD(model.parameters(), lr=0.01)"
   ]
  },
  {
   "cell_type": "markdown",
   "metadata": {},
   "source": [
    "---\n",
    "# Train Loop\n",
    "\n",
    "In the `helpers.py` file, there is code for a training loop that does the following:\n",
    "* Iterate through the training data in batches provided by the `train_loader` \n",
    "* Calculate the loss (binary cross-entropy) and backpropagate to find the source of this error\n",
    "* Update the weights of this NN to decrease the loss\n",
    "* Return the trained model\n"
   ]
  },
  {
   "cell_type": "code",
   "execution_count": 40,
   "metadata": {},
   "outputs": [
    {
     "name": "stdout",
     "output_type": "stream",
     "text": [
      "Epoch: 1, Loss: 0.3624463125068143\n",
      "Epoch: 2, Loss: 0.356206121104719\n",
      "Epoch: 3, Loss: 0.3512215093854102\n",
      "Epoch: 4, Loss: 0.3471379886761254\n",
      "Epoch: 5, Loss: 0.3437262547979071\n"
     ]
    }
   ],
   "source": [
    "from helpers import train\n",
    "\n",
    "# number of epochs - times you iterate through the entire training dataset\n",
    "n_epochs = 5\n",
    "\n",
    "# call provided train function with all params\n",
    "model = train(model, train_loader, n_epochs, optimizer, criterion)"
   ]
  },
  {
   "cell_type": "markdown",
   "metadata": {},
   "source": [
    "---\n",
    "# Test the Trained Network\n",
    "\n",
    "> **TASK**: Record the accuracy that Andy's network gets."
   ]
  },
  {
   "cell_type": "markdown",
   "metadata": {},
   "source": [
    "**Andy's test accuracy was**: 86%"
   ]
  },
  {
   "cell_type": "code",
   "execution_count": 43,
   "metadata": {},
   "outputs": [
    {
     "name": "stdout",
     "output_type": "stream",
     "text": [
      "Test accuracy: 0.860199\n",
      "\n"
     ]
    }
   ],
   "source": [
    "from helpers import test_eval\n",
    "\n",
    "# calculate test accuracy with helper function\n",
    "num_correct = test_eval(model, test_loader, criterion)\n",
    "\n",
    "print('Test accuracy: {:.6f}\\n'.format(num_correct/len(test_dataset)))\n"
   ]
  },
  {
   "cell_type": "markdown",
   "metadata": {},
   "source": [
    "---\n",
    "## An Improved NN\n",
    "\n",
    "Now it's your turn to improve upon this code. \n",
    "\n",
    "> **TASK**: Using the *Sequential* module, create a new NN class that improves upon Andy's solution. For at least 2 experiments, record:\n",
    ">* Hypothesis: What you think will improve a model's accuracy and why (e.g., changing the number of nodes in a hidden layer)\n",
    ">* Experiment results: The resultant test accuracy\n",
    "\n",
    "🏆 Your final experiment should aim for about **98% test accuracy**! "
   ]
  },
  {
   "cell_type": "code",
   "execution_count": 70,
   "metadata": {},
   "outputs": [
    {
     "name": "stdout",
     "output_type": "stream",
     "text": [
      "Epoch: 1, Loss: 0.34342935002183655\n",
      "Epoch: 2, Loss: 0.1342862503912421\n",
      "Epoch: 3, Loss: 0.09381943332730702\n",
      "Epoch: 4, Loss: 0.07254005191992255\n",
      "Epoch: 5, Loss: 0.05910675805852167\n",
      "Epoch: 6, Loss: 0.05004892512922266\n",
      "Epoch: 7, Loss: 0.04380108254612003\n",
      "Epoch: 8, Loss: 0.040667596384496275\n",
      "Epoch: 9, Loss: 0.03772268200037658\n",
      "Epoch: 10, Loss: 0.035679425438613854\n",
      "Epoch: 11, Loss: 0.03423999297835642\n",
      "Epoch: 12, Loss: 0.0332272900634072\n",
      "Epoch: 13, Loss: 0.032494533690939145\n",
      "Epoch: 14, Loss: 0.03192227715559116\n",
      "Epoch: 15, Loss: 0.03147461183887355\n",
      "Epoch: 16, Loss: 0.03110874418452103\n",
      "Epoch: 17, Loss: 0.03077869381873687\n",
      "Epoch: 18, Loss: 0.03050665744163839\n",
      "Epoch: 19, Loss: 0.030271978644441498\n",
      "Epoch: 20, Loss: 0.030076481183378922\n",
      "Test accuracy: 0.989502\n",
      "\n"
     ]
    }
   ],
   "source": [
    "## TODO: Define, train, and test your own NN, using the Sequential module\n",
    "class NoahNet(nn.Sequential):\n",
    "    def __init__(self, input_dim, hidden_dim, output_dim):\n",
    "        super(NoahNet, self).__init__(\n",
    "            nn.Linear(input_dim, hidden_dim),\n",
    "            nn.ReLU(),\n",
    "            nn.Linear(hidden_dim, output_dim),\n",
    "            nn.Sigmoid()\n",
    "        )\n",
    "        \n",
    "input_dim = 7\n",
    "hidden_dim = 15\n",
    "output_dim = 1\n",
    "\n",
    "# loss function (categorical cross-entropy for classification)\n",
    "criterion = nn.BCELoss()\n",
    "\n",
    "# optimizer (stochastic gradient descent) and learning rate = 0.01\n",
    "model = NoahNet(input_dim, hidden_dim, output_dim)\n",
    "optimizer = torch.optim.Adam(model.parameters(), lr = 0.001)\n",
    "\n",
    "n_epochs = 20\n",
    "\n",
    "# call provided train function with all params\n",
    "model = train(model, train_loader, n_epochs, optimizer, criterion)\n",
    "\n",
    "# calculate test accuracy with helper function\n",
    "num_correct = test_eval(model, test_loader, criterion)\n",
    "\n",
    "print('Test accuracy: {:.6f}\\n'.format(num_correct/len(test_dataset)))"
   ]
  },
  {
   "cell_type": "markdown",
   "metadata": {},
   "source": [
    "## Un-mount your data\n",
    "\n",
    "When you're totally done with the Trove dataset, un-mount it to clean uop this working directory.\n",
    "\n",
    "> **TASK**: Un-mount the run/walk Trove data."
   ]
  },
  {
   "cell_type": "code",
   "execution_count": 72,
   "metadata": {},
   "outputs": [
    {
     "name": "stdout",
     "output_type": "stream",
     "text": [
      "dataset/run_walk_motion@1.0.0 is umounted from /Users/noahgallego/Desktop/Apple-OBC/Refactor_Activity_Classification/temp_data/run_walk_motion-1.0.0/data/table\n",
      "dataset/run_walk_motion@1.0.0 is umounted from /Users/noahgallego/Desktop/Apple-OBC/Refactor_Activity_Classification/temp_data/run_walk_motion-1.0.0/data/raw\n",
      "folder /Users/noahgallego/Desktop/Apple-OBC/Refactor_Activity_Classification/temp_data/run_walk_motion-1.0.0/data is removed\n",
      "terms.md is removed from /Users/noahgallego/Desktop/Apple-OBC/Refactor_Activity_Classification/temp_data/run_walk_motion-1.0.0/terms.md\n",
      "readme.md is removed from /Users/noahgallego/Desktop/Apple-OBC/Refactor_Activity_Classification/temp_data/run_walk_motion-1.0.0/readme.md\n",
      "info.json is removed from /Users/noahgallego/Desktop/Apple-OBC/Refactor_Activity_Classification/temp_data/run_walk_motion-1.0.0/info.json\n"
     ]
    }
   ],
   "source": [
    "## TODO: Un-mount Trove data\n",
    "trove.umount(TROVE_URI)"
   ]
  },
  {
   "cell_type": "markdown",
   "metadata": {
    "collapsed": true,
    "jupyter": {
     "outputs_hidden": true
    }
   },
   "source": [
    "---\n",
    "# Further UX Considerations 📝 \n",
    "\n",
    "At Apple, we are always thinking about the nuances of the user experience for different populations. This section represent answers to a set of questions that ask us to consider inclusive design practices, such as:\n",
    "\n",
    "* **Failure cases**: What might go wrong with activity classification, and how does the likelihood of failures vary across users?\n",
    "* **Delight**: What potential impact of a run/walk detection feature are you most excited about?\n",
    "\n",
    "For any model you are thinking of putting into production or sharing with a larger team, you should critically consider the different tradeoffs and impacts such a trained model could have on different users. \n",
    "\n",
    "> **TASK**: In a sentence or a short bullet point, write down at least one potential failure case for run/walk detection and the user impact of that failure. \n",
    "\n",
    "> Additionally, share whether or not you would release your model more widely considering how _big_ this dataset, how many users it represents, and what data might be useful that is missing from this data.\n"
   ]
  },
  {
   "cell_type": "markdown",
   "metadata": {},
   "source": [
    "**Your answer here**: \n"
   ]
  },
  {
   "cell_type": "markdown",
   "metadata": {},
   "source": [
    "### Potential Failure Case for Run/Walk Detection:\n",
    "* Misclassifying a user’s running as walking (or vice versa) could lead to inaccurate calorie expenditure estimates, potentially affecting users who rely on precise activity tracking for health reasons, particularly athletes or individuals managing medical conditions.\n",
    "\n",
    "### Would I Release the Model?\n",
    "* I would release the model more widely only after addressing potential biases in the dataset, particularly ensuring representation across diverse body types, walking/running styles, and abilities. If the dataset is limited in these aspects, gathering more inclusive data would be necessary before scaling the model."
   ]
  }
 ],
 "metadata": {
  "anaconda-cloud": {},
  "kernelspec": {
   "display_name": "Python 3 (ipykernel)",
   "language": "python",
   "name": "python3"
  },
  "language_info": {
   "codemirror_mode": {
    "name": "ipython",
    "version": 3
   },
   "file_extension": ".py",
   "mimetype": "text/x-python",
   "name": "python",
   "nbconvert_exporter": "python",
   "pygments_lexer": "ipython3",
   "version": "3.8.18"
  }
 },
 "nbformat": 4,
 "nbformat_minor": 4
}
